{
  "cells": [
    {
      "cell_type": "markdown",
      "metadata": {
        "id": "view-in-github",
        "colab_type": "text"
      },
      "source": [
        "<a href=\"https://colab.research.google.com/github/AriSalassa/procesamiento_lenguaje_natural/blob/main/clase_3/ejercicios/ejercicio_clase_3_colab.ipynb\" target=\"_parent\"><img src=\"https://colab.research.google.com/assets/colab-badge.svg\" alt=\"Open In Colab\"/></a>"
      ]
    },
    {
      "cell_type": "markdown",
      "metadata": {
        "id": "sZd5yLnnHOK0"
      },
      "source": [
        "<img src=\"https://github.com/hernancontigiani/ceia_memorias_especializacion/raw/master/Figures/logoFIUBA.jpg\" width=\"500\" align=\"center\">\n",
        "\n",
        "\n",
        "# Procesamiento de lenguaje natural\n",
        "## Custom embedddings con Gensim\n",
        "\n"
      ]
    },
    {
      "cell_type": "markdown",
      "metadata": {
        "id": "vA7nqkumo9z9"
      },
      "source": [
        "### Objetivo\n",
        "El objetivo es utilizar documentos / corpus para crear embeddings de palabras basado en ese contexto. Se utilizará canciones de bandas para generar los embeddings, es decir, que los vectores tendrán la forma en función de como esa banda haya utilizado las palabras en sus canciones."
      ]
    },
    {
      "cell_type": "code",
      "execution_count": 1,
      "metadata": {
        "colab": {
          "base_uri": "https://localhost:8080/"
        },
        "id": "bq_zvaYh1mGb",
        "outputId": "1bc3759d-cc9a-40ff-edf2-4f983df53cae"
      },
      "outputs": [
        {
          "output_type": "stream",
          "name": "stdout",
          "text": [
            "Collecting gensim==3.8.3\n",
            "  Downloading gensim-3.8.3-cp37-cp37m-manylinux1_x86_64.whl (24.2 MB)\n",
            "\u001b[K     |████████████████████████████████| 24.2 MB 1.5 MB/s \n",
            "\u001b[?25hRequirement already satisfied: smart-open>=1.8.1 in /usr/local/lib/python3.7/dist-packages (from gensim==3.8.3) (5.2.1)\n",
            "Requirement already satisfied: scipy>=0.18.1 in /usr/local/lib/python3.7/dist-packages (from gensim==3.8.3) (1.4.1)\n",
            "Requirement already satisfied: six>=1.5.0 in /usr/local/lib/python3.7/dist-packages (from gensim==3.8.3) (1.15.0)\n",
            "Requirement already satisfied: numpy>=1.11.3 in /usr/local/lib/python3.7/dist-packages (from gensim==3.8.3) (1.21.5)\n",
            "Installing collected packages: gensim\n",
            "  Attempting uninstall: gensim\n",
            "    Found existing installation: gensim 3.6.0\n",
            "    Uninstalling gensim-3.6.0:\n",
            "      Successfully uninstalled gensim-3.6.0\n",
            "Successfully installed gensim-3.8.3\n"
          ]
        }
      ],
      "source": [
        "!pip install gensim==3.8.3"
      ]
    },
    {
      "cell_type": "code",
      "execution_count": 2,
      "metadata": {
        "id": "lFToQs5FK5uZ"
      },
      "outputs": [],
      "source": [
        "import pandas as pd\n",
        "import matplotlib.pyplot as plt\n",
        "import seaborn as sns\n",
        "\n",
        "import multiprocessing\n",
        "from gensim.models import Word2Vec"
      ]
    },
    {
      "cell_type": "markdown",
      "metadata": {
        "id": "g07zJxG7H9vG"
      },
      "source": [
        "### Datos\n",
        "Utilizaremos como dataset canciones de bandas de habla inglés."
      ]
    },
    {
      "cell_type": "code",
      "execution_count": 3,
      "metadata": {
        "id": "l7z4CSBfpR3X",
        "colab": {
          "base_uri": "https://localhost:8080/"
        },
        "outputId": "159020e5-0d2e-423d-d2f3-dcccc839ac97"
      },
      "outputs": [
        {
          "output_type": "stream",
          "name": "stdout",
          "text": [
            "--2022-04-06 21:45:28--  http://songs_dataset.zip/\n",
            "Resolving songs_dataset.zip (songs_dataset.zip)... failed: Name or service not known.\n",
            "wget: unable to resolve host address ‘songs_dataset.zip’\n",
            "--2022-04-06 21:45:28--  https://github.com/FIUBA-Posgrado-Inteligencia-Artificial/procesamiento_lenguaje_natural/raw/main/datasets/songs_dataset.zip\n",
            "Resolving github.com (github.com)... 140.82.113.3\n",
            "Connecting to github.com (github.com)|140.82.113.3|:443... connected.\n",
            "HTTP request sent, awaiting response... 302 Found\n",
            "Location: https://raw.githubusercontent.com/FIUBA-Posgrado-Inteligencia-Artificial/procesamiento_lenguaje_natural/main/datasets/songs_dataset.zip [following]\n",
            "--2022-04-06 21:45:28--  https://raw.githubusercontent.com/FIUBA-Posgrado-Inteligencia-Artificial/procesamiento_lenguaje_natural/main/datasets/songs_dataset.zip\n",
            "Resolving raw.githubusercontent.com (raw.githubusercontent.com)... 185.199.110.133, 185.199.109.133, 185.199.111.133, ...\n",
            "Connecting to raw.githubusercontent.com (raw.githubusercontent.com)|185.199.110.133|:443... connected.\n",
            "HTTP request sent, awaiting response... 200 OK\n",
            "Length: 2075036 (2.0M) [application/zip]\n",
            "Saving to: ‘songs_dataset.zip’\n",
            "\n",
            "songs_dataset.zip   100%[===================>]   1.98M  --.-KB/s    in 0.06s   \n",
            "\n",
            "2022-04-06 21:45:29 (34.9 MB/s) - ‘songs_dataset.zip’ saved [2075036/2075036]\n",
            "\n",
            "FINISHED --2022-04-06 21:45:29--\n",
            "Total wall clock time: 1.3s\n",
            "Downloaded: 1 files, 2.0M in 0.06s (34.9 MB/s)\n"
          ]
        }
      ],
      "source": [
        "# Descargar la carpeta de dataset\n",
        "import os\n",
        "import platform\n",
        "if os.access('./songs_dataset', os.F_OK) is False:\n",
        "    if os.access('songs_dataset.zip', os.F_OK) is False:\n",
        "        if platform.system() == 'Windows':\n",
        "            !curl https://raw.githubusercontent.com/FIUBA-Posgrado-Inteligencia-Artificial/procesamiento_lenguaje_natural/main/datasets/songs_dataset.zip -o songs_dataset.zip\n",
        "        else:\n",
        "            !wget songs_dataset.zip https://github.com/FIUBA-Posgrado-Inteligencia-Artificial/procesamiento_lenguaje_natural/raw/main/datasets/songs_dataset.zip\n",
        "    !unzip -q songs_dataset.zip   \n",
        "else:\n",
        "    print(\"El dataset ya se encuentra descargado\")"
      ]
    },
    {
      "cell_type": "code",
      "execution_count": 4,
      "metadata": {
        "id": "mysGrIw9ljC2",
        "colab": {
          "base_uri": "https://localhost:8080/"
        },
        "outputId": "c1adba31-2d12-427f-e86c-92ae252be700"
      },
      "outputs": [
        {
          "output_type": "stream",
          "name": "stdout",
          "text": [
            "49\n"
          ]
        },
        {
          "output_type": "execute_result",
          "data": {
            "text/plain": [
              "['Lil_Wayne.txt',\n",
              " 'kanye.txt',\n",
              " 'notorious_big.txt',\n",
              " 'blink-182.txt',\n",
              " 'nicki-minaj.txt',\n",
              " 'nursery_rhymes.txt',\n",
              " 'bieber.txt',\n",
              " 'patti-smith.txt',\n",
              " 'nickelback.txt',\n",
              " 'bruce-springsteen.txt',\n",
              " 'lin-manuel-miranda.txt',\n",
              " 'al-green.txt',\n",
              " 'michael-jackson.txt',\n",
              " 'adele.txt',\n",
              " 'paul-simon.txt',\n",
              " 'prince.txt',\n",
              " 'drake.txt',\n",
              " 'disney.txt',\n",
              " 'jimi-hendrix.txt',\n",
              " 'britney-spears.txt',\n",
              " 'kanye-west.txt',\n",
              " 'radiohead.txt',\n",
              " 'missy-elliott.txt',\n",
              " 'alicia-keys.txt',\n",
              " 'dolly-parton.txt',\n",
              " 'johnny-cash.txt',\n",
              " 'cake.txt',\n",
              " 'bob-dylan.txt',\n",
              " 'lorde.txt',\n",
              " 'beatles.txt',\n",
              " 'ludacris.txt',\n",
              " 'eminem.txt',\n",
              " 'leonard-cohen.txt',\n",
              " 'joni-mitchell.txt',\n",
              " 'dj-khaled.txt',\n",
              " 'janisjoplin.txt',\n",
              " 'dr-seuss.txt',\n",
              " 'lil-wayne.txt',\n",
              " 'Kanye_West.txt',\n",
              " 'dickinson.txt',\n",
              " 'bob-marley.txt',\n",
              " 'lady-gaga.txt',\n",
              " 'r-kelly.txt',\n",
              " 'notorious-big.txt',\n",
              " 'nirvana.txt',\n",
              " 'amy-winehouse.txt',\n",
              " 'bruno-mars.txt',\n",
              " 'rihanna.txt',\n",
              " 'bjork.txt']"
            ]
          },
          "metadata": {},
          "execution_count": 4
        }
      ],
      "source": [
        "# Posibles bandas\n",
        "list_dir = os.listdir(\"./songs_dataset/\")\n",
        "print(len(list_dir))\n",
        "list_dir"
      ]
    },
    {
      "cell_type": "code",
      "execution_count": 5,
      "metadata": {
        "id": "ticoqYD1Z3I7",
        "colab": {
          "base_uri": "https://localhost:8080/",
          "height": 262
        },
        "outputId": "66dc2788-1853-4aa3-b471-60650bc6b6f9"
      },
      "outputs": [
        {
          "output_type": "stream",
          "name": "stderr",
          "text": [
            "/usr/local/lib/python3.7/dist-packages/pandas/util/_decorators.py:311: ParserWarning: Falling back to the 'python' engine because the 'c' engine does not support regex separators (separators > 1 char and different from '\\s+' are interpreted as regex); you can avoid this warning by specifying engine='python'.\n",
            "  return func(*args, **kwargs)\n"
          ]
        },
        {
          "output_type": "execute_result",
          "data": {
            "text/plain": [
              "                                          0\n",
              "0                           [Spoken Intro:]\n",
              "1                   You ever want something\n",
              "2          that you know you shouldn't have\n",
              "3  The more you know you shouldn't have it,\n",
              "4                      The more you want it"
            ],
            "text/html": [
              "\n",
              "  <div id=\"df-b56b889a-47bf-454b-85db-dde8f8508c84\">\n",
              "    <div class=\"colab-df-container\">\n",
              "      <div>\n",
              "<style scoped>\n",
              "    .dataframe tbody tr th:only-of-type {\n",
              "        vertical-align: middle;\n",
              "    }\n",
              "\n",
              "    .dataframe tbody tr th {\n",
              "        vertical-align: top;\n",
              "    }\n",
              "\n",
              "    .dataframe thead th {\n",
              "        text-align: right;\n",
              "    }\n",
              "</style>\n",
              "<table border=\"1\" class=\"dataframe\">\n",
              "  <thead>\n",
              "    <tr style=\"text-align: right;\">\n",
              "      <th></th>\n",
              "      <th>0</th>\n",
              "    </tr>\n",
              "  </thead>\n",
              "  <tbody>\n",
              "    <tr>\n",
              "      <th>0</th>\n",
              "      <td>[Spoken Intro:]</td>\n",
              "    </tr>\n",
              "    <tr>\n",
              "      <th>1</th>\n",
              "      <td>You ever want something</td>\n",
              "    </tr>\n",
              "    <tr>\n",
              "      <th>2</th>\n",
              "      <td>that you know you shouldn't have</td>\n",
              "    </tr>\n",
              "    <tr>\n",
              "      <th>3</th>\n",
              "      <td>The more you know you shouldn't have it,</td>\n",
              "    </tr>\n",
              "    <tr>\n",
              "      <th>4</th>\n",
              "      <td>The more you want it</td>\n",
              "    </tr>\n",
              "  </tbody>\n",
              "</table>\n",
              "</div>\n",
              "      <button class=\"colab-df-convert\" onclick=\"convertToInteractive('df-b56b889a-47bf-454b-85db-dde8f8508c84')\"\n",
              "              title=\"Convert this dataframe to an interactive table.\"\n",
              "              style=\"display:none;\">\n",
              "        \n",
              "  <svg xmlns=\"http://www.w3.org/2000/svg\" height=\"24px\"viewBox=\"0 0 24 24\"\n",
              "       width=\"24px\">\n",
              "    <path d=\"M0 0h24v24H0V0z\" fill=\"none\"/>\n",
              "    <path d=\"M18.56 5.44l.94 2.06.94-2.06 2.06-.94-2.06-.94-.94-2.06-.94 2.06-2.06.94zm-11 1L8.5 8.5l.94-2.06 2.06-.94-2.06-.94L8.5 2.5l-.94 2.06-2.06.94zm10 10l.94 2.06.94-2.06 2.06-.94-2.06-.94-.94-2.06-.94 2.06-2.06.94z\"/><path d=\"M17.41 7.96l-1.37-1.37c-.4-.4-.92-.59-1.43-.59-.52 0-1.04.2-1.43.59L10.3 9.45l-7.72 7.72c-.78.78-.78 2.05 0 2.83L4 21.41c.39.39.9.59 1.41.59.51 0 1.02-.2 1.41-.59l7.78-7.78 2.81-2.81c.8-.78.8-2.07 0-2.86zM5.41 20L4 18.59l7.72-7.72 1.47 1.35L5.41 20z\"/>\n",
              "  </svg>\n",
              "      </button>\n",
              "      \n",
              "  <style>\n",
              "    .colab-df-container {\n",
              "      display:flex;\n",
              "      flex-wrap:wrap;\n",
              "      gap: 12px;\n",
              "    }\n",
              "\n",
              "    .colab-df-convert {\n",
              "      background-color: #E8F0FE;\n",
              "      border: none;\n",
              "      border-radius: 50%;\n",
              "      cursor: pointer;\n",
              "      display: none;\n",
              "      fill: #1967D2;\n",
              "      height: 32px;\n",
              "      padding: 0 0 0 0;\n",
              "      width: 32px;\n",
              "    }\n",
              "\n",
              "    .colab-df-convert:hover {\n",
              "      background-color: #E2EBFA;\n",
              "      box-shadow: 0px 1px 2px rgba(60, 64, 67, 0.3), 0px 1px 3px 1px rgba(60, 64, 67, 0.15);\n",
              "      fill: #174EA6;\n",
              "    }\n",
              "\n",
              "    [theme=dark] .colab-df-convert {\n",
              "      background-color: #3B4455;\n",
              "      fill: #D2E3FC;\n",
              "    }\n",
              "\n",
              "    [theme=dark] .colab-df-convert:hover {\n",
              "      background-color: #434B5C;\n",
              "      box-shadow: 0px 1px 3px 1px rgba(0, 0, 0, 0.15);\n",
              "      filter: drop-shadow(0px 1px 2px rgba(0, 0, 0, 0.3));\n",
              "      fill: #FFFFFF;\n",
              "    }\n",
              "  </style>\n",
              "\n",
              "      <script>\n",
              "        const buttonEl =\n",
              "          document.querySelector('#df-b56b889a-47bf-454b-85db-dde8f8508c84 button.colab-df-convert');\n",
              "        buttonEl.style.display =\n",
              "          google.colab.kernel.accessAllowed ? 'block' : 'none';\n",
              "\n",
              "        async function convertToInteractive(key) {\n",
              "          const element = document.querySelector('#df-b56b889a-47bf-454b-85db-dde8f8508c84');\n",
              "          const dataTable =\n",
              "            await google.colab.kernel.invokeFunction('convertToInteractive',\n",
              "                                                     [key], {});\n",
              "          if (!dataTable) return;\n",
              "\n",
              "          const docLinkHtml = 'Like what you see? Visit the ' +\n",
              "            '<a target=\"_blank\" href=https://colab.research.google.com/notebooks/data_table.ipynb>data table notebook</a>'\n",
              "            + ' to learn more about interactive tables.';\n",
              "          element.innerHTML = '';\n",
              "          dataTable['output_type'] = 'display_data';\n",
              "          await google.colab.output.renderOutput(dataTable, element);\n",
              "          const docLink = document.createElement('div');\n",
              "          docLink.innerHTML = docLinkHtml;\n",
              "          element.appendChild(docLink);\n",
              "        }\n",
              "      </script>\n",
              "    </div>\n",
              "  </div>\n",
              "  "
            ]
          },
          "metadata": {},
          "execution_count": 5
        }
      ],
      "source": [
        "# Armar el dataset utilizando salto de línea para separar las oraciones/docs\n",
        "df = pd.read_csv('songs_dataset/michael-jackson.txt', sep='/n', header=None)\n",
        "df.head()"
      ]
    },
    {
      "cell_type": "code",
      "execution_count": 6,
      "metadata": {
        "id": "LEpKubK9XzXN",
        "colab": {
          "base_uri": "https://localhost:8080/"
        },
        "outputId": "c0559685-ae2c-456b-d1c0-07e461de3f22"
      },
      "outputs": [
        {
          "output_type": "stream",
          "name": "stdout",
          "text": [
            "Cantidad de documentos: 9484\n"
          ]
        }
      ],
      "source": [
        "print(\"Cantidad de documentos:\", df.shape[0])"
      ]
    },
    {
      "cell_type": "markdown",
      "metadata": {
        "id": "ab94qaFlrA1G"
      },
      "source": [
        "### 1 - Preprocesamiento"
      ]
    },
    {
      "cell_type": "code",
      "execution_count": 7,
      "metadata": {
        "id": "rIsmMWmjrDHd"
      },
      "outputs": [],
      "source": [
        "from keras.preprocessing.text import text_to_word_sequence\n",
        "\n",
        "sentence_tokens = []\n",
        "# Recorrer todas las filas y transformar las oraciones\n",
        "# en una secuencia de palabras (esto podría realizarse con NLTK o spaCy también)\n",
        "for _, row in df[:None].iterrows():\n",
        "    sentence_tokens.append(text_to_word_sequence(row[0]))"
      ]
    },
    {
      "cell_type": "code",
      "execution_count": 8,
      "metadata": {
        "id": "CHepi_DGrbhq",
        "colab": {
          "base_uri": "https://localhost:8080/"
        },
        "outputId": "e09ded51-87c2-4cd8-8941-6e3200b9375e"
      },
      "outputs": [
        {
          "output_type": "execute_result",
          "data": {
            "text/plain": [
              "[['spoken', 'intro'], ['you', 'ever', 'want', 'something']]"
            ]
          },
          "metadata": {},
          "execution_count": 8
        }
      ],
      "source": [
        "# Demos un vistazo\n",
        "sentence_tokens[:2]"
      ]
    },
    {
      "cell_type": "markdown",
      "metadata": {
        "id": "BaXV6nlHr5Aa"
      },
      "source": [
        "### 2 - Crear los vectores (word2vec)"
      ]
    },
    {
      "cell_type": "code",
      "execution_count": 9,
      "metadata": {
        "id": "OSb0v7h8r7hK"
      },
      "outputs": [],
      "source": [
        "from gensim.models.callbacks import CallbackAny2Vec\n",
        "# Durante el entrenamiento gensim por defecto no informa el \"loss\" en cada época\n",
        "# Sobracargamos el callback para poder tener esta información\n",
        "class callback(CallbackAny2Vec):\n",
        "    \"\"\"\n",
        "    Callback to print loss after each epoch\n",
        "    \"\"\"\n",
        "    def __init__(self):\n",
        "        self.epoch = 0\n",
        "\n",
        "    def on_epoch_end(self, model):\n",
        "        loss = model.get_latest_training_loss()\n",
        "        if self.epoch == 0:\n",
        "            print('Loss after epoch {}: {}'.format(self.epoch, loss))\n",
        "        else:\n",
        "            print('Loss after epoch {}: {}'.format(self.epoch, loss- self.loss_previous_step))\n",
        "        self.epoch += 1\n",
        "        self.loss_previous_step = loss"
      ]
    },
    {
      "cell_type": "code",
      "execution_count": 10,
      "metadata": {
        "id": "i0wnDdv9sJ47"
      },
      "outputs": [],
      "source": [
        "# Crearmos el modelo generador de vectoeres\n",
        "# En este caso utilizaremos la estructura modelo Skipgram\n",
        "w2v_model = Word2Vec(min_count=5,       # frecuencia mínima de palabra para incluirla en el vocabulario\n",
        "                     window=2,          # cant de palabras antes y desp de la predicha\n",
        "                     size=300,          # dimensionalidad de los vectores \n",
        "                     negative=20,       # cantidad de negative samples... 0 es no se usa\n",
        "                     workers=1,         # si tienen más cores pueden cambiar este valor\n",
        "                     sg=1)              # modelo 0:CBOW  1:skipgram"
      ]
    },
    {
      "cell_type": "code",
      "execution_count": 11,
      "metadata": {
        "id": "5lTt8wErsf17"
      },
      "outputs": [],
      "source": [
        "# Buildear el vocabularui con los tokens\n",
        "w2v_model.build_vocab(sentence_tokens)"
      ]
    },
    {
      "cell_type": "code",
      "execution_count": 12,
      "metadata": {
        "id": "TNc9qt4os5AT",
        "colab": {
          "base_uri": "https://localhost:8080/"
        },
        "outputId": "e6a1abf0-a287-49d0-e4c2-554248275782"
      },
      "outputs": [
        {
          "output_type": "stream",
          "name": "stdout",
          "text": [
            "Cantidad de docs en el corpus: 9484\n"
          ]
        }
      ],
      "source": [
        "# Cantidad de filas/docs encontradas en el corpus\n",
        "print(\"Cantidad de docs en el corpus:\", w2v_model.corpus_count)"
      ]
    },
    {
      "cell_type": "code",
      "execution_count": 13,
      "metadata": {
        "id": "idw9cHF3tSMl",
        "colab": {
          "base_uri": "https://localhost:8080/"
        },
        "outputId": "1ff53619-5494-47f7-eff6-af9ebaacb968"
      },
      "outputs": [
        {
          "output_type": "stream",
          "name": "stdout",
          "text": [
            "Cantidad de words distintas en el corpus: 1000\n"
          ]
        }
      ],
      "source": [
        "# Cantidad de words encontradas en el corpus\n",
        "print(\"Cantidad de words distintas en el corpus:\", len(w2v_model.wv.vocab))"
      ]
    },
    {
      "cell_type": "markdown",
      "metadata": {
        "id": "fC9mZ8DPk-UC"
      },
      "source": [
        "### 3 - Entrenar el modelo generador"
      ]
    },
    {
      "cell_type": "code",
      "execution_count": 14,
      "metadata": {
        "id": "QSp-x0PAsq56",
        "colab": {
          "base_uri": "https://localhost:8080/"
        },
        "outputId": "7a8f5fe2-ce45-4d93-e8d6-a6b1fab98225"
      },
      "outputs": [
        {
          "output_type": "stream",
          "name": "stdout",
          "text": [
            "Loss after epoch 0: 338319.84375\n",
            "Loss after epoch 1: 227767.71875\n",
            "Loss after epoch 2: 228929.4375\n",
            "Loss after epoch 3: 225359.4375\n",
            "Loss after epoch 4: 196104.4375\n",
            "Loss after epoch 5: 188187.375\n",
            "Loss after epoch 6: 181549.75\n",
            "Loss after epoch 7: 174775.0\n",
            "Loss after epoch 8: 171784.75\n",
            "Loss after epoch 9: 165706.75\n",
            "Loss after epoch 10: 146940.75\n",
            "Loss after epoch 11: 145552.0\n",
            "Loss after epoch 12: 143006.0\n",
            "Loss after epoch 13: 141207.75\n",
            "Loss after epoch 14: 140830.5\n",
            "Loss after epoch 15: 138899.25\n",
            "Loss after epoch 16: 139130.5\n",
            "Loss after epoch 17: 137745.0\n",
            "Loss after epoch 18: 138696.75\n",
            "Loss after epoch 19: 137433.0\n"
          ]
        },
        {
          "output_type": "execute_result",
          "data": {
            "text/plain": [
              "(626341, 993780)"
            ]
          },
          "metadata": {},
          "execution_count": 14
        }
      ],
      "source": [
        "# Entrenamos el modelo generador de vectores\n",
        "# Utilizamos nuestro callback\n",
        "w2v_model.train(sentence_tokens,\n",
        "                 total_examples=w2v_model.corpus_count,\n",
        "                 epochs=20,\n",
        "                 compute_loss = True,\n",
        "                 callbacks=[callback()]\n",
        "                 )"
      ]
    },
    {
      "cell_type": "markdown",
      "metadata": {
        "id": "ddT9NVuNlCAe"
      },
      "source": [
        "### 4 - Ensayar"
      ]
    },
    {
      "cell_type": "code",
      "execution_count": 15,
      "metadata": {
        "id": "6cHN9xGLuPEm",
        "colab": {
          "base_uri": "https://localhost:8080/"
        },
        "outputId": "50d71331-00c4-4030-f0cd-86836d5c0a9b"
      },
      "outputs": [
        {
          "output_type": "stream",
          "name": "stdout",
          "text": [
            "Palabras que MÁS se relacionan con...:\n",
            "* thriller \n",
            " [('winds', 0.8437806963920593), ('till', 0.8355855345726013), ('killer', 0.8253421783447266), ('big', 0.8039060831069946), ('darkness', 0.802476167678833), ('s', 0.7975853085517883), ('breaking', 0.7926170825958252), ('injustice', 0.7789288759231567), ('history', 0.7749476432800293), ('lovers', 0.774057149887085)]\n",
            "* remember \n",
            " [('doot', 0.7765475511550903), ('after', 0.7477302551269531), ('great', 0.7366161346435547), ('means', 0.7320057153701782), ('times', 0.7310488224029541), ('perfect', 0.7270776033401489), ('thrill', 0.7086794376373291), ('play', 0.6900840997695923), ('choice', 0.689246654510498), ('end', 0.6818466186523438)]\n",
            "* bad \n",
            " [('shameone', 0.9027432799339294), ('smooth', 0.8830131888389587), ('laughing', 0.816936731338501), ('fast', 0.8148630261421204), ('bothered', 0.7877052426338196), ('telling', 0.7783938646316528), ('easy', 0.7735446691513062), ('late', 0.7663449645042419), ('everyday', 0.76183021068573), ('talking', 0.7493969202041626)]\n"
          ]
        }
      ],
      "source": [
        "# Palabras que MÁS se relacionan con...:\n",
        "print(\"Palabras que MÁS se relacionan con...:\")\n",
        "print(\"* thriller \\n\", w2v_model.wv.most_similar(positive=[\"thriller\"], topn=10))\n",
        "print(\"* remember \\n\", w2v_model.wv.most_similar(positive=[\"remember\"], topn=10))\n",
        "print(\"* bad \\n\", w2v_model.wv.most_similar(positive=[\"bad\"], topn=10))"
      ]
    },
    {
      "cell_type": "code",
      "execution_count": 16,
      "metadata": {
        "id": "47HiU5gdkdMq",
        "colab": {
          "base_uri": "https://localhost:8080/"
        },
        "outputId": "a1e98fce-d6ae-4022-9b78-1e430ce8f1a5"
      },
      "outputs": [
        {
          "output_type": "stream",
          "name": "stdout",
          "text": [
            "Palabras que MENOS se relacionan con...:\n",
            "* thriller \n",
            " [('uuh', 0.10693293064832687), ('stevie', 0.09019403904676437), ('pitbull', 0.021125249564647675), ('siedah', 0.01513645052909851), ('cheater', -0.02849094569683075), ('happens', -0.10146676003932953), ('let', -0.11573702841997147), ('whatever', -0.11907555907964706), (\"don't\", -0.13370513916015625), ('refrain', -0.1360141634941101)]\n",
            "* remember \n",
            " [('stevie', 0.05462115257978439), ('uuh', 0.0044644735753536224), ('pitbull', -0.014146354049444199), ('cheater', -0.02320026606321335), ('siedah', -0.03485107421875), ('refrain', -0.06804600358009338), ('down', -0.09345267713069916), ('high', -0.10298650711774826), ('your', -0.12489107251167297), ('enough', -0.1285310685634613)]\n",
            "* bad \n",
            " [('pitbull', 0.07984061539173126), ('uuh', 0.06686697900295258), ('stevie', -0.004616007208824158), ('siedah', -0.006680287420749664), ('refrain', -0.07219935953617096), ('change', -0.08841358125209808), ('cheater', -0.09293422102928162), ('blow', -0.09981842339038849), ('her', -0.100422203540802), ('will', -0.11785756051540375)]\n"
          ]
        }
      ],
      "source": [
        "# Palabras que MENOS se relacionan con...:\n",
        "print(\"Palabras que MENOS se relacionan con...:\")\n",
        "print(\"* thriller \\n\", w2v_model.wv.most_similar(negative=[\"thriller\"], topn=10))\n",
        "print(\"* remember \\n\", w2v_model.wv.most_similar(negative=[\"remember\"], topn=10))\n",
        "print(\"* bad \\n\", w2v_model.wv.most_similar(negative=[\"bad\"], topn=10))"
      ]
    },
    {
      "cell_type": "code",
      "execution_count": 17,
      "metadata": {
        "id": "DT4Rvno2mD65",
        "colab": {
          "base_uri": "https://localhost:8080/"
        },
        "outputId": "3f373bfd-a21b-4007-f516-73f2b0afae1f"
      },
      "outputs": [
        {
          "output_type": "execute_result",
          "data": {
            "text/plain": [
              "[('jean', 0.9878240823745728),\n",
              " ('son', 0.9032402038574219),\n",
              " ('lover', 0.8783435821533203),\n",
              " ('kid', 0.8709703683853149),\n",
              " ('sleep', 0.842766284942627),\n",
              " ('dangerous', 0.825167179107666),\n",
              " ('yours', 0.8223621845245361),\n",
              " ('s', 0.8167554140090942),\n",
              " ('dom', 0.8162959814071655),\n",
              " ('sheldon', 0.8128227591514587)]"
            ]
          },
          "metadata": {},
          "execution_count": 17
        }
      ],
      "source": [
        "# Palabras que MÁS se relacionan con...:\n",
        "w2v_model.wv.most_similar(positive=[\"billie\"], topn=10)"
      ]
    },
    {
      "cell_type": "code",
      "execution_count": 18,
      "metadata": {
        "id": "XPLDPgzBmQXt",
        "colab": {
          "base_uri": "https://localhost:8080/"
        },
        "outputId": "75e33706-e116-47cf-ece7-2b201ca35dd5"
      },
      "outputs": [
        {
          "output_type": "execute_result",
          "data": {
            "text/plain": [
              "[('floor', 0.8353102803230286),\n",
              " ('across', 0.8314943313598633),\n",
              " ('carpet', 0.7830660343170166),\n",
              " ('boogie', 0.7821351885795593),\n",
              " ('earth', 0.7762736082077026)]"
            ]
          },
          "metadata": {},
          "execution_count": 18
        }
      ],
      "source": [
        "# Palabras que MÁS se relacionan con...:\n",
        "w2v_model.wv.most_similar(positive=[\"dance\"], topn=5)"
      ]
    },
    {
      "cell_type": "code",
      "execution_count": 19,
      "metadata": {
        "id": "L_UvHPMMklOr",
        "colab": {
          "base_uri": "https://localhost:8080/",
          "height": 335
        },
        "outputId": "b1afc542-9180-462f-e37a-071a71ebe048"
      },
      "outputs": [
        {
          "output_type": "error",
          "ename": "KeyError",
          "evalue": "ignored",
          "traceback": [
            "\u001b[0;31m---------------------------------------------------------------------------\u001b[0m",
            "\u001b[0;31mKeyError\u001b[0m                                  Traceback (most recent call last)",
            "\u001b[0;32m<ipython-input-19-fbc480abe1d1>\u001b[0m in \u001b[0;36m<module>\u001b[0;34m()\u001b[0m\n\u001b[1;32m      1\u001b[0m \u001b[0;31m# Ensayar con una palabra que no está en el corpus (en vocab):\u001b[0m\u001b[0;34m\u001b[0m\u001b[0;34m\u001b[0m\u001b[0;34m\u001b[0m\u001b[0m\n\u001b[0;32m----> 2\u001b[0;31m \u001b[0mw2v_model\u001b[0m\u001b[0;34m.\u001b[0m\u001b[0mwv\u001b[0m\u001b[0;34m.\u001b[0m\u001b[0mmost_similar\u001b[0m\u001b[0;34m(\u001b[0m\u001b[0mnegative\u001b[0m\u001b[0;34m=\u001b[0m\u001b[0;34m[\u001b[0m\u001b[0;34m\"diedaa\"\u001b[0m\u001b[0;34m]\u001b[0m\u001b[0;34m)\u001b[0m\u001b[0;34m\u001b[0m\u001b[0;34m\u001b[0m\u001b[0m\n\u001b[0m",
            "\u001b[0;32m/usr/local/lib/python3.7/dist-packages/gensim/models/keyedvectors.py\u001b[0m in \u001b[0;36mmost_similar\u001b[0;34m(self, positive, negative, topn, restrict_vocab, indexer)\u001b[0m\n\u001b[1;32m    551\u001b[0m                 \u001b[0mmean\u001b[0m\u001b[0;34m.\u001b[0m\u001b[0mappend\u001b[0m\u001b[0;34m(\u001b[0m\u001b[0mweight\u001b[0m \u001b[0;34m*\u001b[0m \u001b[0mword\u001b[0m\u001b[0;34m)\u001b[0m\u001b[0;34m\u001b[0m\u001b[0;34m\u001b[0m\u001b[0m\n\u001b[1;32m    552\u001b[0m             \u001b[0;32melse\u001b[0m\u001b[0;34m:\u001b[0m\u001b[0;34m\u001b[0m\u001b[0;34m\u001b[0m\u001b[0m\n\u001b[0;32m--> 553\u001b[0;31m                 \u001b[0mmean\u001b[0m\u001b[0;34m.\u001b[0m\u001b[0mappend\u001b[0m\u001b[0;34m(\u001b[0m\u001b[0mweight\u001b[0m \u001b[0;34m*\u001b[0m \u001b[0mself\u001b[0m\u001b[0;34m.\u001b[0m\u001b[0mword_vec\u001b[0m\u001b[0;34m(\u001b[0m\u001b[0mword\u001b[0m\u001b[0;34m,\u001b[0m \u001b[0muse_norm\u001b[0m\u001b[0;34m=\u001b[0m\u001b[0;32mTrue\u001b[0m\u001b[0;34m)\u001b[0m\u001b[0;34m)\u001b[0m\u001b[0;34m\u001b[0m\u001b[0;34m\u001b[0m\u001b[0m\n\u001b[0m\u001b[1;32m    554\u001b[0m                 \u001b[0;32mif\u001b[0m \u001b[0mword\u001b[0m \u001b[0;32min\u001b[0m \u001b[0mself\u001b[0m\u001b[0;34m.\u001b[0m\u001b[0mvocab\u001b[0m\u001b[0;34m:\u001b[0m\u001b[0;34m\u001b[0m\u001b[0;34m\u001b[0m\u001b[0m\n\u001b[1;32m    555\u001b[0m                     \u001b[0mall_words\u001b[0m\u001b[0;34m.\u001b[0m\u001b[0madd\u001b[0m\u001b[0;34m(\u001b[0m\u001b[0mself\u001b[0m\u001b[0;34m.\u001b[0m\u001b[0mvocab\u001b[0m\u001b[0;34m[\u001b[0m\u001b[0mword\u001b[0m\u001b[0;34m]\u001b[0m\u001b[0;34m.\u001b[0m\u001b[0mindex\u001b[0m\u001b[0;34m)\u001b[0m\u001b[0;34m\u001b[0m\u001b[0;34m\u001b[0m\u001b[0m\n",
            "\u001b[0;32m/usr/local/lib/python3.7/dist-packages/gensim/models/keyedvectors.py\u001b[0m in \u001b[0;36mword_vec\u001b[0;34m(self, word, use_norm)\u001b[0m\n\u001b[1;32m    466\u001b[0m             \u001b[0;32mreturn\u001b[0m \u001b[0mresult\u001b[0m\u001b[0;34m\u001b[0m\u001b[0;34m\u001b[0m\u001b[0m\n\u001b[1;32m    467\u001b[0m         \u001b[0;32melse\u001b[0m\u001b[0;34m:\u001b[0m\u001b[0;34m\u001b[0m\u001b[0;34m\u001b[0m\u001b[0m\n\u001b[0;32m--> 468\u001b[0;31m             \u001b[0;32mraise\u001b[0m \u001b[0mKeyError\u001b[0m\u001b[0;34m(\u001b[0m\u001b[0;34m\"word '%s' not in vocabulary\"\u001b[0m \u001b[0;34m%\u001b[0m \u001b[0mword\u001b[0m\u001b[0;34m)\u001b[0m\u001b[0;34m\u001b[0m\u001b[0;34m\u001b[0m\u001b[0m\n\u001b[0m\u001b[1;32m    469\u001b[0m \u001b[0;34m\u001b[0m\u001b[0m\n\u001b[1;32m    470\u001b[0m     \u001b[0;32mdef\u001b[0m \u001b[0mget_vector\u001b[0m\u001b[0;34m(\u001b[0m\u001b[0mself\u001b[0m\u001b[0;34m,\u001b[0m \u001b[0mword\u001b[0m\u001b[0;34m)\u001b[0m\u001b[0;34m:\u001b[0m\u001b[0;34m\u001b[0m\u001b[0;34m\u001b[0m\u001b[0m\n",
            "\u001b[0;31mKeyError\u001b[0m: \"word 'diedaa' not in vocabulary\""
          ]
        }
      ],
      "source": [
        "# Ensayar con una palabra que no está en el corpus (en vocab):\n",
        "w2v_model.wv.most_similar(negative=[\"diedaa\"])"
      ]
    },
    {
      "cell_type": "markdown",
      "metadata": {
        "id": "_g8UVWe6lFmh"
      },
      "source": [
        "### 5 - Visualizar agrupación de vectores"
      ]
    },
    {
      "cell_type": "code",
      "execution_count": 20,
      "metadata": {
        "id": "pDxEVXAivjr9"
      },
      "outputs": [],
      "source": [
        "from sklearn.decomposition import IncrementalPCA    \n",
        "from sklearn.manifold import TSNE                   \n",
        "import numpy as np                                  \n",
        "\n",
        "def reduce_dimensions(model):\n",
        "    num_dimensions = 2  \n",
        "\n",
        "    vectors = np.asarray(model.wv.vectors)\n",
        "    labels = np.asarray(model.wv.index2word)  \n",
        "\n",
        "    tsne = TSNE(n_components=num_dimensions, random_state=0)\n",
        "    vectors = tsne.fit_transform(vectors)\n",
        "\n",
        "    x_vals = [v[0] for v in vectors]\n",
        "    y_vals = [v[1] for v in vectors]\n",
        "    return x_vals, y_vals, labels"
      ]
    },
    {
      "cell_type": "code",
      "execution_count": 21,
      "metadata": {
        "colab": {
          "base_uri": "https://localhost:8080/"
        },
        "id": "Hfw3J2HK1mGl",
        "outputId": "44e3be95-cdb1-406b-8228-45838b604049"
      },
      "outputs": [
        {
          "output_type": "stream",
          "name": "stdout",
          "text": [
            "Requirement already satisfied: plotly in /usr/local/lib/python3.7/dist-packages (5.5.0)\n",
            "Collecting nbformat==4.2.0\n",
            "  Downloading nbformat-4.2.0-py2.py3-none-any.whl (153 kB)\n",
            "\u001b[K     |████████████████████████████████| 153 kB 7.6 MB/s \n",
            "\u001b[?25hRequirement already satisfied: jsonschema!=2.5.0,>=2.4 in /usr/local/lib/python3.7/dist-packages (from nbformat==4.2.0) (4.3.3)\n",
            "Requirement already satisfied: ipython-genutils in /usr/local/lib/python3.7/dist-packages (from nbformat==4.2.0) (0.2.0)\n",
            "Requirement already satisfied: jupyter-core in /usr/local/lib/python3.7/dist-packages (from nbformat==4.2.0) (4.9.2)\n",
            "Requirement already satisfied: traitlets>=4.1 in /usr/local/lib/python3.7/dist-packages (from nbformat==4.2.0) (5.1.1)\n",
            "Requirement already satisfied: attrs>=17.4.0 in /usr/local/lib/python3.7/dist-packages (from jsonschema!=2.5.0,>=2.4->nbformat==4.2.0) (21.4.0)\n",
            "Requirement already satisfied: typing-extensions in /usr/local/lib/python3.7/dist-packages (from jsonschema!=2.5.0,>=2.4->nbformat==4.2.0) (3.10.0.2)\n",
            "Requirement already satisfied: pyrsistent!=0.17.0,!=0.17.1,!=0.17.2,>=0.14.0 in /usr/local/lib/python3.7/dist-packages (from jsonschema!=2.5.0,>=2.4->nbformat==4.2.0) (0.18.1)\n",
            "Requirement already satisfied: importlib-resources>=1.4.0 in /usr/local/lib/python3.7/dist-packages (from jsonschema!=2.5.0,>=2.4->nbformat==4.2.0) (5.4.0)\n",
            "Requirement already satisfied: importlib-metadata in /usr/local/lib/python3.7/dist-packages (from jsonschema!=2.5.0,>=2.4->nbformat==4.2.0) (4.11.3)\n",
            "Requirement already satisfied: zipp>=3.1.0 in /usr/local/lib/python3.7/dist-packages (from importlib-resources>=1.4.0->jsonschema!=2.5.0,>=2.4->nbformat==4.2.0) (3.7.0)\n",
            "Requirement already satisfied: six in /usr/local/lib/python3.7/dist-packages (from plotly) (1.15.0)\n",
            "Requirement already satisfied: tenacity>=6.2.0 in /usr/local/lib/python3.7/dist-packages (from plotly) (8.0.1)\n",
            "Installing collected packages: nbformat\n",
            "  Attempting uninstall: nbformat\n",
            "    Found existing installation: nbformat 5.2.0\n",
            "    Uninstalling nbformat-5.2.0:\n",
            "      Successfully uninstalled nbformat-5.2.0\n",
            "\u001b[31mERROR: pip's dependency resolver does not currently take into account all the packages that are installed. This behaviour is the source of the following dependency conflicts.\n",
            "nbconvert 5.6.1 requires nbformat>=4.4, but you have nbformat 4.2.0 which is incompatible.\n",
            "nbclient 0.5.13 requires jupyter-client>=6.1.5, but you have jupyter-client 5.3.5 which is incompatible.\n",
            "nbclient 0.5.13 requires nbformat>=5.0, but you have nbformat 4.2.0 which is incompatible.\u001b[0m\n",
            "Successfully installed nbformat-4.2.0\n"
          ]
        }
      ],
      "source": [
        "!pip install plotly nbformat==4.2.0"
      ]
    },
    {
      "cell_type": "code",
      "execution_count": 22,
      "metadata": {
        "id": "NCCXtDpcugmd",
        "colab": {
          "base_uri": "https://localhost:8080/"
        },
        "outputId": "f8ceea80-296e-4573-b8ac-604feb5c67dd"
      },
      "outputs": [
        {
          "output_type": "stream",
          "name": "stderr",
          "text": [
            "/usr/local/lib/python3.7/dist-packages/sklearn/manifold/_t_sne.py:783: FutureWarning: The default initialization in TSNE will change from 'random' to 'pca' in 1.2.\n",
            "  FutureWarning,\n",
            "/usr/local/lib/python3.7/dist-packages/sklearn/manifold/_t_sne.py:793: FutureWarning: The default learning rate in TSNE will change from 200.0 to 'auto' in 1.2.\n",
            "  FutureWarning,\n"
          ]
        }
      ],
      "source": [
        "# Graficar los embedddings en 2D\n",
        "import plotly.graph_objects as go\n",
        "import plotly.express as px\n",
        "\n",
        "x_vals, y_vals, labels = reduce_dimensions(w2v_model)"
      ]
    },
    {
      "cell_type": "code",
      "execution_count": 23,
      "metadata": {
        "colab": {
          "base_uri": "https://localhost:8080/",
          "height": 542
        },
        "id": "Y_RW8HOn1mGl",
        "outputId": "ff1112c9-10d9-48f5-9fbf-c042f8f022a9"
      },
      "outputs": [
        {
          "output_type": "display_data",
          "data": {
            "text/html": [
              "<html>\n",
              "<head><meta charset=\"utf-8\" /></head>\n",
              "<body>\n",
              "    <div>            <script src=\"https://cdnjs.cloudflare.com/ajax/libs/mathjax/2.7.5/MathJax.js?config=TeX-AMS-MML_SVG\"></script><script type=\"text/javascript\">if (window.MathJax) {MathJax.Hub.Config({SVG: {font: \"STIX-Web\"}});}</script>                <script type=\"text/javascript\">window.PlotlyConfig = {MathJaxConfig: 'local'};</script>\n",
              "        <script src=\"https://cdn.plot.ly/plotly-2.8.3.min.js\"></script>                <div id=\"93be3392-e111-4376-bcf1-fe4a107a373c\" class=\"plotly-graph-div\" style=\"height:525px; width:100%;\"></div>            <script type=\"text/javascript\">                                    window.PLOTLYENV=window.PLOTLYENV || {};                                    if (document.getElementById(\"93be3392-e111-4376-bcf1-fe4a107a373c\")) {                    Plotly.newPlot(                        \"93be3392-e111-4376-bcf1-fe4a107a373c\",                        [{\"hovertemplate\":\"x=%{x}<br>y=%{y}<br>text=%{text}<extra></extra>\",\"legendgroup\":\"\",\"marker\":{\"color\":\"#636efa\",\"symbol\":\"circle\"},\"mode\":\"markers+text\",\"name\":\"\",\"orientation\":\"v\",\"showlegend\":false,\"text\":[\"you\",\"the\",\"i\",\"me\",\"to\",\"and\",\"it\",\"a\",\"my\",\"in\",\"love\",\"your\",\"don't\",\"is\",\"of\",\"that\",\"on\",\"just\",\"be\",\"for\",\"all\",\"baby\",\"so\",\"know\",\"no\",\"you're\",\"i'm\",\"do\",\"get\",\"got\",\"what\",\"girl\",\"she\",\"are\",\"with\",\"yeah\",\"bad\",\"make\",\"it's\",\"we\",\"like\",\"can\",\"but\",\"if\",\"really\",\"about\",\"when\",\"can't\",\"this\",\"let\",\"oh\",\"wanna\",\"too\",\"he\",\"world\",\"stop\",\"now\",\"take\",\"there\",\"her\",\"give\",\"time\",\"go\",\"see\",\"come\",\"keep\",\"how\",\"will\",\"why\",\"one\",\"ain't\",\"way\",\"they\",\"have\",\"life\",\"right\",\"away\",\"chorus\",\"feel\",\"not\",\"around\",\"gonna\",\"say\",\"up\",\"down\",\"she's\",\"was\",\"out\",\"tell\",\"want\",\"day\",\"hold\",\"hee\",\"'cause\",\"night\",\"never\",\"alone\",\"i'll\",\"then\",\"am\",\"we're\",\"us\",\"who\",\"mine\",\"heart\",\"michael\",\"at\",\"need\",\"back\",\"man\",\"there's\",\"every\",\"from\",\"here\",\"hand\",\"had\",\"dah\",\"leave\",\"enough\",\"things\",\"verse\",\"change\",\"cry\",\"or\",\"that's\",\"won't\",\"much\",\"na\",\"did\",\"would\",\"gone\",\"look\",\"said\",\"better\",\"as\",\"always\",\"you'll\",\"hoo\",\"ooh\",\"remember\",\"matter\",\"where\",\"could\",\"because\",\"care\",\"by\",\"i've\",\"place\",\"doesn't\",\"good\",\"stay\",\"through\",\"our\",\"soul\",\"'til\",\"anything\",\"some\",\"off\",\"still\",\"eyes\",\"forever\",\"only\",\"should\",\"though\",\"thought\",\"gotta\",\"live\",\"ok\",\"ever\",\"been\",\"find\",\"think\",\"da\",\"beat\",\"annie\",\"don\\u2019t\",\"thing\",\"free\",\"again\",\"told\",\"came\",\"dance\",\"mind\",\"together\",\"workin'\",\"tonight\",\"wants\",\"refrain\",\"over\",\"more\",\"has\",\"cold\",\"his\",\"fly\",\"people\",\"money\",\"does\",\"him\",\"before\",\"scream\"],\"x\":[-9.025650024414062,11.684027671813965,-11.036245346069336,-21.19158363342285,-9.332393646240234,-2.61653995513916,-26.578201293945312,22.207717895507812,17.581233978271484,18.507566452026367,26.125947952270508,14.167624473571777,6.5026140213012695,25.349599838256836,12.36157512664795,-12.510809898376465,21.577585220336914,-17.69805908203125,-1.4169025421142578,-14.111483573913574,5.699738502502441,3.583069086074829,-9.115358352661133,15.566901206970215,-3.3136982917785645,9.408058166503906,13.626413345336914,-10.963895797729492,13.528382301330566,-9.484674453735352,-9.573344230651855,16.86473846435547,-22.340370178222656,-27.53081703186035,17.521564483642578,34.936038970947266,14.694414138793945,-9.003581047058105,8.626445770263672,-5.270424842834473,-0.8679707646369934,1.6093330383300781,-18.509756088256836,-14.559124946594238,-18.841699600219727,-0.5793846249580383,-15.680708885192871,-13.8909330368042,-30.755939483642578,-5.104236602783203,-2.8936147689819336,-6.54441499710083,-19.523529052734375,-7.079650402069092,-26.025314331054688,4.503782272338867,-14.779888153076172,-30.35841941833496,-8.901540756225586,-20.66117286682129,-24.204689025878906,-11.986298561096191,6.650559902191162,-9.198558807373047,-27.66857147216797,18.159334182739258,-22.448171615600586,-13.98184871673584,-4.672755718231201,-2.290454149246216,-18.78264045715332,-19.030677795410156,-6.782199382781982,-27.317195892333984,13.251956939697266,30.201536178588867,21.57613182067871,-3.07319712638855,-20.60284423828125,-21.938278198242188,6.3604207038879395,1.2475310564041138,-15.864079475402832,24.472240447998047,4.163773536682129,-5.107412815093994,11.620479583740234,-6.104058742523193,0.25651708245277405,-17.755529403686523,19.279523849487305,21.83380699157715,6.7189412117004395,15.433061599731445,15.957802772521973,-20.778940200805664,-17.904172897338867,3.1573455333709717,-3.36712384223938,-20.77997589111328,-14.866504669189453,2.2905871868133545,11.149595260620117,17.37851905822754,19.333084106445312,2.514124631881714,8.05825424194336,-9.09400749206543,-28.836610794067383,25.535123825073242,7.14982271194458,12.510183334350586,15.205780029296875,-21.433732986450195,21.50273323059082,-17.718351364135742,6.709474563598633,-28.156639099121094,3.4539079666137695,-12.896890640258789,-3.46213698387146,8.783977508544922,-17.654809951782227,-30.062891006469727,-20.27081871032715,8.383184432983398,-18.372234344482422,-10.8461275100708,-3.669651508331299,-12.693428039550781,-16.724321365356445,9.352584838867188,-19.88913345336914,1.4477324485778809,-7.834763526916504,-12.170241355895996,2.961671829223633,7.153749465942383,28.51073455810547,-11.771586418151855,-25.480134963989258,-4.030701637268066,-14.831028938293457,17.347381591796875,-2.2994210720062256,29.065393447875977,-11.878801345825195,-19.49481964111328,-26.04570770263672,-7.0003533363342285,2.1684532165527344,21.374723434448242,11.729796409606934,23.69782066345215,4.867555618286133,-15.871380805969238,-16.253379821777344,24.35544776916504,-18.042524337768555,17.694921493530273,-11.774789810180664,-14.445779800415039,-26.07438087463379,11.405362129211426,-18.397417068481445,-26.495588302612305,14.82938289642334,-26.84889030456543,-1.7115730047225952,-10.102694511413574,-17.03662109375,28.32335662841797,-7.054134845733643,-20.548507690429688,-26.94991683959961,7.838662147521973,-6.38894510269165,-14.108565330505371,-2.18509578704834,-24.03960418701172,18.788013458251953,25.437671661376953,13.56050968170166,-22.80830192565918,17.60856819152832,-17.040367126464844,-22.809865951538086,17.994998931884766,34.517730712890625,-2.8577632904052734,9.77351188659668,26.7514591217041,13.8402681350708,13.855630874633789,-12.930282592773438,-15.923372268676758,-22.981672286987305,-1.0135308504104614,-10.469467163085938,-6.713993549346924],\"xaxis\":\"x\",\"y\":[14.550145149230957,-1.9138367176055908,18.192096710205078,-7.385929107666016,11.98766803741455,16.943979263305664,6.8025221824646,-18.59151268005371,-1.5473302602767944,-3.804037570953369,18.10507583618164,-8.578630447387695,21.710041046142578,-1.0723817348480225,-22.283077239990234,5.213301181793213,11.01369571685791,22.973892211914062,9.616172790527344,33.38047790527344,7.502440452575684,11.595227241516113,-11.577011108398438,26.069381713867188,-16.11050796508789,3.7791390419006348,26.326112747192383,26.535076141357422,6.229367733001709,-14.274436950683594,28.166488647460938,17.920970916748047,8.995074272155762,-1.2980561256408691,8.266284942626953,-0.3006545901298523,27.35696792602539,23.349533081054688,4.293604850769043,17.284770965576172,-13.896415710449219,18.615816116333008,15.804314613342285,19.422100067138672,-22.95363998413086,32.92918014526367,10.8333740234375,21.95321273803711,9.341771125793457,29.105548858642578,-22.0159912109375,21.34056282043457,-3.7177300453186035,18.42037582397461,-19.853553771972656,24.044857025146484,-12.5409517288208,-4.947579383850098,-9.827343940734863,-11.4471435546875,9.907434463500977,30.797306060791016,17.978771209716797,19.801837921142578,-5.348015785217285,11.61477279663086,2.8418641090393066,9.148781776428223,24.700895309448242,7.0697760581970215,-2.6489057540893555,6.318178653717041,16.9327449798584,15.66186809539795,13.656659126281738,-7.413193225860596,16.433317184448242,-29.805931091308594,5.763238430023193,-17.697925567626953,30.271936416625977,23.271915435791016,17.131317138671875,-8.099696159362793,-21.376529693603516,-18.884029388427734,18.601465225219727,-27.094459533691406,25.016071319580078,20.819400787353516,-14.970914840698242,-22.85651397705078,-33.909061431884766,23.33778190612793,-15.940569877624512,15.3982515335083,-8.486422538757324,16.587339401245117,18.646587371826172,18.253755569458008,-17.501035690307617,31.80002212524414,8.006258964538574,16.369539260864258,-8.344284057617188,-28.757850646972656,-16.847944259643555,7.5023040771484375,-7.40892219543457,-15.804506301879883,-12.865225791931152,-14.474261283874512,-19.979930877685547,26.13936424255371,-1.792110800743103,-21.42878532409668,11.061589241027832,-13.11119270324707,22.352828979492188,24.58710479736328,-30.436676025390625,11.674572944641113,8.874472618103027,3.9105820655822754,2.774646520614624,19.032522201538086,-4.552003860473633,-28.621414184570312,20.652183532714844,18.996017456054688,-13.713735580444336,-16.482707977294922,13.0509672164917,20.566186904907227,4.865644931793213,-8.5986328125,17.095773696899414,-31.68240737915039,2.1231632232666016,27.803863525390625,3.5746448040008545,22.02378273010254,13.919594764709473,24.73227882385254,32.80073165893555,5.5492844581604,-19.546350479125977,29.273008346557617,5.243464946746826,-14.755631446838379,13.85328483581543,16.156156539916992,15.394991874694824,-3.491527795791626,22.47285270690918,32.207645416259766,-27.06326675415039,1.6324228048324585,17.670419692993164,-6.6763458251953125,-6.702131748199463,16.547388076782227,17.235498428344727,24.0007381439209,-22.477184295654297,-12.745735168457031,13.75772762298584,-0.688717782497406,21.027597427368164,-17.673213958740234,14.929502487182617,18.336711883544922,-35.23167419433594,22.463966369628906,-0.7857712507247925,31.402851104736328,-1.6723428964614868,-6.482875347137451,25.90167999267578,16.197072982788086,-10.752120971679688,6.792514801025391,1.9491770267486572,-5.880218505859375,-16.130245208740234,-10.615123748779297,10.571940422058105,-30.616907119750977,-3.2602319717407227,6.786395072937012,8.695930480957031,-18.345415115356445,-11.118501663208008,10.685884475708008,-14.458745002746582,32.18711853027344,4.596132278442383,24.036069869995117,-16.89179039001465,25.497817993164062],\"yaxis\":\"y\",\"type\":\"scatter\"}],                        {\"template\":{\"data\":{\"bar\":[{\"error_x\":{\"color\":\"#2a3f5f\"},\"error_y\":{\"color\":\"#2a3f5f\"},\"marker\":{\"line\":{\"color\":\"#E5ECF6\",\"width\":0.5},\"pattern\":{\"fillmode\":\"overlay\",\"size\":10,\"solidity\":0.2}},\"type\":\"bar\"}],\"barpolar\":[{\"marker\":{\"line\":{\"color\":\"#E5ECF6\",\"width\":0.5},\"pattern\":{\"fillmode\":\"overlay\",\"size\":10,\"solidity\":0.2}},\"type\":\"barpolar\"}],\"carpet\":[{\"aaxis\":{\"endlinecolor\":\"#2a3f5f\",\"gridcolor\":\"white\",\"linecolor\":\"white\",\"minorgridcolor\":\"white\",\"startlinecolor\":\"#2a3f5f\"},\"baxis\":{\"endlinecolor\":\"#2a3f5f\",\"gridcolor\":\"white\",\"linecolor\":\"white\",\"minorgridcolor\":\"white\",\"startlinecolor\":\"#2a3f5f\"},\"type\":\"carpet\"}],\"choropleth\":[{\"colorbar\":{\"outlinewidth\":0,\"ticks\":\"\"},\"type\":\"choropleth\"}],\"contour\":[{\"colorbar\":{\"outlinewidth\":0,\"ticks\":\"\"},\"colorscale\":[[0.0,\"#0d0887\"],[0.1111111111111111,\"#46039f\"],[0.2222222222222222,\"#7201a8\"],[0.3333333333333333,\"#9c179e\"],[0.4444444444444444,\"#bd3786\"],[0.5555555555555556,\"#d8576b\"],[0.6666666666666666,\"#ed7953\"],[0.7777777777777778,\"#fb9f3a\"],[0.8888888888888888,\"#fdca26\"],[1.0,\"#f0f921\"]],\"type\":\"contour\"}],\"contourcarpet\":[{\"colorbar\":{\"outlinewidth\":0,\"ticks\":\"\"},\"type\":\"contourcarpet\"}],\"heatmap\":[{\"colorbar\":{\"outlinewidth\":0,\"ticks\":\"\"},\"colorscale\":[[0.0,\"#0d0887\"],[0.1111111111111111,\"#46039f\"],[0.2222222222222222,\"#7201a8\"],[0.3333333333333333,\"#9c179e\"],[0.4444444444444444,\"#bd3786\"],[0.5555555555555556,\"#d8576b\"],[0.6666666666666666,\"#ed7953\"],[0.7777777777777778,\"#fb9f3a\"],[0.8888888888888888,\"#fdca26\"],[1.0,\"#f0f921\"]],\"type\":\"heatmap\"}],\"heatmapgl\":[{\"colorbar\":{\"outlinewidth\":0,\"ticks\":\"\"},\"colorscale\":[[0.0,\"#0d0887\"],[0.1111111111111111,\"#46039f\"],[0.2222222222222222,\"#7201a8\"],[0.3333333333333333,\"#9c179e\"],[0.4444444444444444,\"#bd3786\"],[0.5555555555555556,\"#d8576b\"],[0.6666666666666666,\"#ed7953\"],[0.7777777777777778,\"#fb9f3a\"],[0.8888888888888888,\"#fdca26\"],[1.0,\"#f0f921\"]],\"type\":\"heatmapgl\"}],\"histogram\":[{\"marker\":{\"pattern\":{\"fillmode\":\"overlay\",\"size\":10,\"solidity\":0.2}},\"type\":\"histogram\"}],\"histogram2d\":[{\"colorbar\":{\"outlinewidth\":0,\"ticks\":\"\"},\"colorscale\":[[0.0,\"#0d0887\"],[0.1111111111111111,\"#46039f\"],[0.2222222222222222,\"#7201a8\"],[0.3333333333333333,\"#9c179e\"],[0.4444444444444444,\"#bd3786\"],[0.5555555555555556,\"#d8576b\"],[0.6666666666666666,\"#ed7953\"],[0.7777777777777778,\"#fb9f3a\"],[0.8888888888888888,\"#fdca26\"],[1.0,\"#f0f921\"]],\"type\":\"histogram2d\"}],\"histogram2dcontour\":[{\"colorbar\":{\"outlinewidth\":0,\"ticks\":\"\"},\"colorscale\":[[0.0,\"#0d0887\"],[0.1111111111111111,\"#46039f\"],[0.2222222222222222,\"#7201a8\"],[0.3333333333333333,\"#9c179e\"],[0.4444444444444444,\"#bd3786\"],[0.5555555555555556,\"#d8576b\"],[0.6666666666666666,\"#ed7953\"],[0.7777777777777778,\"#fb9f3a\"],[0.8888888888888888,\"#fdca26\"],[1.0,\"#f0f921\"]],\"type\":\"histogram2dcontour\"}],\"mesh3d\":[{\"colorbar\":{\"outlinewidth\":0,\"ticks\":\"\"},\"type\":\"mesh3d\"}],\"parcoords\":[{\"line\":{\"colorbar\":{\"outlinewidth\":0,\"ticks\":\"\"}},\"type\":\"parcoords\"}],\"pie\":[{\"automargin\":true,\"type\":\"pie\"}],\"scatter\":[{\"marker\":{\"colorbar\":{\"outlinewidth\":0,\"ticks\":\"\"}},\"type\":\"scatter\"}],\"scatter3d\":[{\"line\":{\"colorbar\":{\"outlinewidth\":0,\"ticks\":\"\"}},\"marker\":{\"colorbar\":{\"outlinewidth\":0,\"ticks\":\"\"}},\"type\":\"scatter3d\"}],\"scattercarpet\":[{\"marker\":{\"colorbar\":{\"outlinewidth\":0,\"ticks\":\"\"}},\"type\":\"scattercarpet\"}],\"scattergeo\":[{\"marker\":{\"colorbar\":{\"outlinewidth\":0,\"ticks\":\"\"}},\"type\":\"scattergeo\"}],\"scattergl\":[{\"marker\":{\"colorbar\":{\"outlinewidth\":0,\"ticks\":\"\"}},\"type\":\"scattergl\"}],\"scattermapbox\":[{\"marker\":{\"colorbar\":{\"outlinewidth\":0,\"ticks\":\"\"}},\"type\":\"scattermapbox\"}],\"scatterpolar\":[{\"marker\":{\"colorbar\":{\"outlinewidth\":0,\"ticks\":\"\"}},\"type\":\"scatterpolar\"}],\"scatterpolargl\":[{\"marker\":{\"colorbar\":{\"outlinewidth\":0,\"ticks\":\"\"}},\"type\":\"scatterpolargl\"}],\"scatterternary\":[{\"marker\":{\"colorbar\":{\"outlinewidth\":0,\"ticks\":\"\"}},\"type\":\"scatterternary\"}],\"surface\":[{\"colorbar\":{\"outlinewidth\":0,\"ticks\":\"\"},\"colorscale\":[[0.0,\"#0d0887\"],[0.1111111111111111,\"#46039f\"],[0.2222222222222222,\"#7201a8\"],[0.3333333333333333,\"#9c179e\"],[0.4444444444444444,\"#bd3786\"],[0.5555555555555556,\"#d8576b\"],[0.6666666666666666,\"#ed7953\"],[0.7777777777777778,\"#fb9f3a\"],[0.8888888888888888,\"#fdca26\"],[1.0,\"#f0f921\"]],\"type\":\"surface\"}],\"table\":[{\"cells\":{\"fill\":{\"color\":\"#EBF0F8\"},\"line\":{\"color\":\"white\"}},\"header\":{\"fill\":{\"color\":\"#C8D4E3\"},\"line\":{\"color\":\"white\"}},\"type\":\"table\"}]},\"layout\":{\"annotationdefaults\":{\"arrowcolor\":\"#2a3f5f\",\"arrowhead\":0,\"arrowwidth\":1},\"autotypenumbers\":\"strict\",\"coloraxis\":{\"colorbar\":{\"outlinewidth\":0,\"ticks\":\"\"}},\"colorscale\":{\"diverging\":[[0,\"#8e0152\"],[0.1,\"#c51b7d\"],[0.2,\"#de77ae\"],[0.3,\"#f1b6da\"],[0.4,\"#fde0ef\"],[0.5,\"#f7f7f7\"],[0.6,\"#e6f5d0\"],[0.7,\"#b8e186\"],[0.8,\"#7fbc41\"],[0.9,\"#4d9221\"],[1,\"#276419\"]],\"sequential\":[[0.0,\"#0d0887\"],[0.1111111111111111,\"#46039f\"],[0.2222222222222222,\"#7201a8\"],[0.3333333333333333,\"#9c179e\"],[0.4444444444444444,\"#bd3786\"],[0.5555555555555556,\"#d8576b\"],[0.6666666666666666,\"#ed7953\"],[0.7777777777777778,\"#fb9f3a\"],[0.8888888888888888,\"#fdca26\"],[1.0,\"#f0f921\"]],\"sequentialminus\":[[0.0,\"#0d0887\"],[0.1111111111111111,\"#46039f\"],[0.2222222222222222,\"#7201a8\"],[0.3333333333333333,\"#9c179e\"],[0.4444444444444444,\"#bd3786\"],[0.5555555555555556,\"#d8576b\"],[0.6666666666666666,\"#ed7953\"],[0.7777777777777778,\"#fb9f3a\"],[0.8888888888888888,\"#fdca26\"],[1.0,\"#f0f921\"]]},\"colorway\":[\"#636efa\",\"#EF553B\",\"#00cc96\",\"#ab63fa\",\"#FFA15A\",\"#19d3f3\",\"#FF6692\",\"#B6E880\",\"#FF97FF\",\"#FECB52\"],\"font\":{\"color\":\"#2a3f5f\"},\"geo\":{\"bgcolor\":\"white\",\"lakecolor\":\"white\",\"landcolor\":\"#E5ECF6\",\"showlakes\":true,\"showland\":true,\"subunitcolor\":\"white\"},\"hoverlabel\":{\"align\":\"left\"},\"hovermode\":\"closest\",\"mapbox\":{\"style\":\"light\"},\"paper_bgcolor\":\"white\",\"plot_bgcolor\":\"#E5ECF6\",\"polar\":{\"angularaxis\":{\"gridcolor\":\"white\",\"linecolor\":\"white\",\"ticks\":\"\"},\"bgcolor\":\"#E5ECF6\",\"radialaxis\":{\"gridcolor\":\"white\",\"linecolor\":\"white\",\"ticks\":\"\"}},\"scene\":{\"xaxis\":{\"backgroundcolor\":\"#E5ECF6\",\"gridcolor\":\"white\",\"gridwidth\":2,\"linecolor\":\"white\",\"showbackground\":true,\"ticks\":\"\",\"zerolinecolor\":\"white\"},\"yaxis\":{\"backgroundcolor\":\"#E5ECF6\",\"gridcolor\":\"white\",\"gridwidth\":2,\"linecolor\":\"white\",\"showbackground\":true,\"ticks\":\"\",\"zerolinecolor\":\"white\"},\"zaxis\":{\"backgroundcolor\":\"#E5ECF6\",\"gridcolor\":\"white\",\"gridwidth\":2,\"linecolor\":\"white\",\"showbackground\":true,\"ticks\":\"\",\"zerolinecolor\":\"white\"}},\"shapedefaults\":{\"line\":{\"color\":\"#2a3f5f\"}},\"ternary\":{\"aaxis\":{\"gridcolor\":\"white\",\"linecolor\":\"white\",\"ticks\":\"\"},\"baxis\":{\"gridcolor\":\"white\",\"linecolor\":\"white\",\"ticks\":\"\"},\"bgcolor\":\"#E5ECF6\",\"caxis\":{\"gridcolor\":\"white\",\"linecolor\":\"white\",\"ticks\":\"\"}},\"title\":{\"x\":0.05},\"xaxis\":{\"automargin\":true,\"gridcolor\":\"white\",\"linecolor\":\"white\",\"ticks\":\"\",\"title\":{\"standoff\":15},\"zerolinecolor\":\"white\",\"zerolinewidth\":2},\"yaxis\":{\"automargin\":true,\"gridcolor\":\"white\",\"linecolor\":\"white\",\"ticks\":\"\",\"title\":{\"standoff\":15},\"zerolinecolor\":\"white\",\"zerolinewidth\":2}}},\"xaxis\":{\"anchor\":\"y\",\"domain\":[0.0,1.0],\"title\":{\"text\":\"x\"}},\"yaxis\":{\"anchor\":\"x\",\"domain\":[0.0,1.0],\"title\":{\"text\":\"y\"}},\"legend\":{\"tracegroupgap\":0},\"margin\":{\"t\":60}},                        {\"responsive\": true}                    ).then(function(){\n",
              "                            \n",
              "var gd = document.getElementById('93be3392-e111-4376-bcf1-fe4a107a373c');\n",
              "var x = new MutationObserver(function (mutations, observer) {{\n",
              "        var display = window.getComputedStyle(gd).display;\n",
              "        if (!display || display === 'none') {{\n",
              "            console.log([gd, 'removed!']);\n",
              "            Plotly.purge(gd);\n",
              "            observer.disconnect();\n",
              "        }}\n",
              "}});\n",
              "\n",
              "// Listen for the removal of the full notebook cells\n",
              "var notebookContainer = gd.closest('#notebook-container');\n",
              "if (notebookContainer) {{\n",
              "    x.observe(notebookContainer, {childList: true});\n",
              "}}\n",
              "\n",
              "// Listen for the clearing of the current output cell\n",
              "var outputEl = gd.closest('.output');\n",
              "if (outputEl) {{\n",
              "    x.observe(outputEl, {childList: true});\n",
              "}}\n",
              "\n",
              "                        })                };                            </script>        </div>\n",
              "</body>\n",
              "</html>"
            ]
          },
          "metadata": {}
        }
      ],
      "source": [
        "MAX_WORDS=200\n",
        "fig = px.scatter(x=x_vals[:MAX_WORDS], y=y_vals[:MAX_WORDS], text=labels[:MAX_WORDS])\n",
        "fig.show() # esto para plotly en colab"
      ]
    },
    {
      "cell_type": "code",
      "source": [
        ""
      ],
      "metadata": {
        "id": "7AGDPkLL2KK5"
      },
      "execution_count": null,
      "outputs": []
    }
  ],
  "metadata": {
    "colab": {
      "collapsed_sections": [],
      "name": "ejercicio_clase_3.ipynb",
      "provenance": [],
      "include_colab_link": true
    },
    "interpreter": {
      "hash": "eda8329ce5439e37ea24af16a4ff5a945220a519191618dcf6a534d3fc61cae6"
    },
    "kernelspec": {
      "display_name": "Python 3.7.11 64-bit ('3.7.11': pyenv)",
      "name": "python3"
    },
    "language_info": {
      "codemirror_mode": {
        "name": "ipython",
        "version": 3
      },
      "file_extension": ".py",
      "mimetype": "text/x-python",
      "name": "python",
      "nbconvert_exporter": "python",
      "pygments_lexer": "ipython3",
      "version": "3.7.11"
    }
  },
  "nbformat": 4,
  "nbformat_minor": 0
}