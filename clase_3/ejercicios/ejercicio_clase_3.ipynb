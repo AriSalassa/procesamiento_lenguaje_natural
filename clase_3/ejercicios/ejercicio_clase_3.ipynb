{
  "cells": [
    {
      "cell_type": "markdown",
      "metadata": {
        "id": "sZd5yLnnHOK0"
      },
      "source": [
        "<img src=\"https://github.com/hernancontigiani/ceia_memorias_especializacion/raw/master/Figures/logoFIUBA.jpg\" width=\"500\" align=\"center\">\n",
        "\n",
        "\n",
        "# Procesamiento de lenguaje natural\n",
        "## Custom embedddings con Gensim\n",
        "\n"
      ]
    },
    {
      "cell_type": "markdown",
      "metadata": {
        "id": "vA7nqkumo9z9"
      },
      "source": [
        "### Objetivo\n",
        "El objetivo es utilizar documentos / corpus para crear embeddings de palabras basado en ese contexto. Se utilizará canciones de bandas para generar los embeddings, es decir, que los vectores tendrán la forma en función de como esa banda haya utilizado las palabras en sus canciones."
      ]
    },
    {
      "cell_type": "code",
      "execution_count": 2,
      "metadata": {},
      "outputs": [
        {
          "name": "stdout",
          "output_type": "stream",
          "text": [
            "Collecting gensim==3.8.3\n",
            "  Downloading gensim-3.8.3-cp37-cp37m-macosx_10_9_x86_64.whl (24.2 MB)\n",
            "\u001b[K     |████████████████████████████████| 24.2 MB 10.0 MB/s \n",
            "\u001b[?25hRequirement already satisfied: six>=1.5.0 in /Users/ext_asalassa/.local/lib/python3.7/site-packages (from gensim==3.8.3) (1.16.0)\n",
            "Collecting smart-open>=1.8.1\n",
            "  Using cached smart_open-5.2.1-py3-none-any.whl (58 kB)\n",
            "Requirement already satisfied: numpy>=1.11.3 in /Users/ext_asalassa/.pyenv/versions/3.7.11/lib/python3.7/site-packages (from gensim==3.8.3) (1.19.5)\n",
            "Requirement already satisfied: scipy>=0.18.1 in /Users/ext_asalassa/.pyenv/versions/3.7.11/lib/python3.7/site-packages (from gensim==3.8.3) (1.7.1)\n",
            "Installing collected packages: smart-open, gensim\n",
            "Successfully installed gensim-3.8.3 smart-open-5.2.1\n",
            "\u001b[33mWARNING: You are using pip version 20.1.1; however, version 22.0.4 is available.\n",
            "You should consider upgrading via the '/Users/ext_asalassa/.pyenv/versions/3.7.11/bin/python3.7 -m pip install --upgrade pip' command.\u001b[0m\n"
          ]
        }
      ],
      "source": [
        "!pip install gensim==3.8.3"
      ]
    },
    {
      "cell_type": "code",
      "execution_count": 1,
      "metadata": {
        "id": "lFToQs5FK5uZ"
      },
      "outputs": [],
      "source": [
        "import pandas as pd\n",
        "import matplotlib.pyplot as plt\n",
        "import seaborn as sns\n",
        "\n",
        "import multiprocessing\n",
        "from gensim.models import Word2Vec"
      ]
    },
    {
      "cell_type": "markdown",
      "metadata": {
        "id": "g07zJxG7H9vG"
      },
      "source": [
        "### Datos\n",
        "Utilizaremos como dataset canciones de bandas de habla inglés."
      ]
    },
    {
      "cell_type": "code",
      "execution_count": 2,
      "metadata": {
        "id": "l7z4CSBfpR3X"
      },
      "outputs": [
        {
          "name": "stdout",
          "output_type": "stream",
          "text": [
            "El dataset ya se encuentra descargado\n"
          ]
        }
      ],
      "source": [
        "# Descargar la carpeta de dataset\n",
        "import os\n",
        "import platform\n",
        "if os.access('./songs_dataset', os.F_OK) is False:\n",
        "    if os.access('songs_dataset.zip', os.F_OK) is False:\n",
        "        if platform.system() == 'Windows':\n",
        "            !curl https://raw.githubusercontent.com/FIUBA-Posgrado-Inteligencia-Artificial/procesamiento_lenguaje_natural/main/datasets/songs_dataset.zip -o songs_dataset.zip\n",
        "        else:\n",
        "            !wget songs_dataset.zip https://github.com/FIUBA-Posgrado-Inteligencia-Artificial/procesamiento_lenguaje_natural/raw/main/datasets/songs_dataset.zip\n",
        "    !unzip -q songs_dataset.zip   \n",
        "else:\n",
        "    print(\"El dataset ya se encuentra descargado\")"
      ]
    },
    {
      "cell_type": "code",
      "execution_count": 3,
      "metadata": {
        "id": "mysGrIw9ljC2"
      },
      "outputs": [
        {
          "name": "stdout",
          "output_type": "stream",
          "text": [
            "49\n"
          ]
        },
        {
          "data": {
            "text/plain": [
              "['prince.txt',\n",
              " 'dickinson.txt',\n",
              " 'notorious-big.txt',\n",
              " 'beatles.txt',\n",
              " 'bob-dylan.txt',\n",
              " 'bjork.txt',\n",
              " 'johnny-cash.txt',\n",
              " 'disney.txt',\n",
              " 'janisjoplin.txt',\n",
              " 'kanye.txt',\n",
              " 'bob-marley.txt',\n",
              " 'leonard-cohen.txt',\n",
              " 'ludacris.txt',\n",
              " 'adele.txt',\n",
              " 'alicia-keys.txt',\n",
              " 'joni-mitchell.txt',\n",
              " 'amy-winehouse.txt',\n",
              " 'lorde.txt',\n",
              " 'rihanna.txt',\n",
              " 'Kanye_West.txt',\n",
              " 'nirvana.txt',\n",
              " 'cake.txt',\n",
              " 'bieber.txt',\n",
              " 'notorious_big.txt',\n",
              " 'missy-elliott.txt',\n",
              " 'dolly-parton.txt',\n",
              " 'jimi-hendrix.txt',\n",
              " 'michael-jackson.txt',\n",
              " 'al-green.txt',\n",
              " 'lil-wayne.txt',\n",
              " 'lady-gaga.txt',\n",
              " 'lin-manuel-miranda.txt',\n",
              " 'nursery_rhymes.txt',\n",
              " 'dj-khaled.txt',\n",
              " 'radiohead.txt',\n",
              " 'patti-smith.txt',\n",
              " 'blink-182.txt',\n",
              " 'Lil_Wayne.txt',\n",
              " 'dr-seuss.txt',\n",
              " 'r-kelly.txt',\n",
              " 'drake.txt',\n",
              " 'britney-spears.txt',\n",
              " 'bruce-springsteen.txt',\n",
              " 'nicki-minaj.txt',\n",
              " 'kanye-west.txt',\n",
              " 'paul-simon.txt',\n",
              " 'nickelback.txt',\n",
              " 'eminem.txt',\n",
              " 'bruno-mars.txt']"
            ]
          },
          "execution_count": 3,
          "metadata": {},
          "output_type": "execute_result"
        }
      ],
      "source": [
        "# Posibles bandas\n",
        "list_dir = os.listdir(\"./songs_dataset/\")\n",
        "print(len(list_dir))\n",
        "list_dir"
      ]
    },
    {
      "cell_type": "code",
      "execution_count": 4,
      "metadata": {
        "id": "ticoqYD1Z3I7"
      },
      "outputs": [
        {
          "name": "stderr",
          "output_type": "stream",
          "text": [
            "/Users/ext_asalassa/.pyenv/versions/3.7.11/lib/python3.7/site-packages/pandas/util/_decorators.py:311: ParserWarning: Falling back to the 'python' engine because the 'c' engine does not support regex separators (separators > 1 char and different from '\\s+' are interpreted as regex); you can avoid this warning by specifying engine='python'.\n",
            "  return func(*args, **kwargs)\n"
          ]
        },
        {
          "data": {
            "text/html": [
              "<div>\n",
              "<style scoped>\n",
              "    .dataframe tbody tr th:only-of-type {\n",
              "        vertical-align: middle;\n",
              "    }\n",
              "\n",
              "    .dataframe tbody tr th {\n",
              "        vertical-align: top;\n",
              "    }\n",
              "\n",
              "    .dataframe thead th {\n",
              "        text-align: right;\n",
              "    }\n",
              "</style>\n",
              "<table border=\"1\" class=\"dataframe\">\n",
              "  <thead>\n",
              "    <tr style=\"text-align: right;\">\n",
              "      <th></th>\n",
              "      <th>0</th>\n",
              "    </tr>\n",
              "  </thead>\n",
              "  <tbody>\n",
              "    <tr>\n",
              "      <th>0</th>\n",
              "      <td>[Spoken Intro:]</td>\n",
              "    </tr>\n",
              "    <tr>\n",
              "      <th>1</th>\n",
              "      <td>You ever want something</td>\n",
              "    </tr>\n",
              "    <tr>\n",
              "      <th>2</th>\n",
              "      <td>that you know you shouldn't have</td>\n",
              "    </tr>\n",
              "    <tr>\n",
              "      <th>3</th>\n",
              "      <td>The more you know you shouldn't have it,</td>\n",
              "    </tr>\n",
              "    <tr>\n",
              "      <th>4</th>\n",
              "      <td>The more you want it</td>\n",
              "    </tr>\n",
              "  </tbody>\n",
              "</table>\n",
              "</div>"
            ],
            "text/plain": [
              "                                          0\n",
              "0                           [Spoken Intro:]\n",
              "1                   You ever want something\n",
              "2          that you know you shouldn't have\n",
              "3  The more you know you shouldn't have it,\n",
              "4                      The more you want it"
            ]
          },
          "execution_count": 4,
          "metadata": {},
          "output_type": "execute_result"
        }
      ],
      "source": [
        "# Armar el dataset utilizando salto de línea para separar las oraciones/docs\n",
        "df = pd.read_csv('songs_dataset/michael-jackson.txt', sep='/n', header=None)\n",
        "df.head()"
      ]
    },
    {
      "cell_type": "code",
      "execution_count": 5,
      "metadata": {
        "id": "LEpKubK9XzXN"
      },
      "outputs": [
        {
          "name": "stdout",
          "output_type": "stream",
          "text": [
            "Cantidad de documentos: 9484\n"
          ]
        }
      ],
      "source": [
        "print(\"Cantidad de documentos:\", df.shape[0])"
      ]
    },
    {
      "cell_type": "markdown",
      "metadata": {
        "id": "ab94qaFlrA1G"
      },
      "source": [
        "### 1 - Preprocesamiento"
      ]
    },
    {
      "cell_type": "code",
      "execution_count": 6,
      "metadata": {
        "id": "rIsmMWmjrDHd"
      },
      "outputs": [],
      "source": [
        "from keras.preprocessing.text import text_to_word_sequence\n",
        "\n",
        "sentence_tokens = []\n",
        "# Recorrer todas las filas y transformar las oraciones\n",
        "# en una secuencia de palabras (esto podría realizarse con NLTK o spaCy también)\n",
        "for _, row in df[:None].iterrows():\n",
        "    sentence_tokens.append(text_to_word_sequence(row[0]))"
      ]
    },
    {
      "cell_type": "code",
      "execution_count": 7,
      "metadata": {
        "id": "CHepi_DGrbhq"
      },
      "outputs": [
        {
          "data": {
            "text/plain": [
              "[['spoken', 'intro'], ['you', 'ever', 'want', 'something']]"
            ]
          },
          "execution_count": 7,
          "metadata": {},
          "output_type": "execute_result"
        }
      ],
      "source": [
        "# Demos un vistazo\n",
        "sentence_tokens[:2]"
      ]
    },
    {
      "cell_type": "markdown",
      "metadata": {
        "id": "BaXV6nlHr5Aa"
      },
      "source": [
        "### 2 - Crear los vectores (word2vec)"
      ]
    },
    {
      "cell_type": "code",
      "execution_count": 8,
      "metadata": {
        "id": "OSb0v7h8r7hK"
      },
      "outputs": [],
      "source": [
        "from gensim.models.callbacks import CallbackAny2Vec\n",
        "# Durante el entrenamiento gensim por defecto no informa el \"loss\" en cada época\n",
        "# Sobracargamos el callback para poder tener esta información\n",
        "class callback(CallbackAny2Vec):\n",
        "    \"\"\"\n",
        "    Callback to print loss after each epoch\n",
        "    \"\"\"\n",
        "    def __init__(self):\n",
        "        self.epoch = 0\n",
        "\n",
        "    def on_epoch_end(self, model):\n",
        "        loss = model.get_latest_training_loss()\n",
        "        if self.epoch == 0:\n",
        "            print('Loss after epoch {}: {}'.format(self.epoch, loss))\n",
        "        else:\n",
        "            print('Loss after epoch {}: {}'.format(self.epoch, loss- self.loss_previous_step))\n",
        "        self.epoch += 1\n",
        "        self.loss_previous_step = loss"
      ]
    },
    {
      "cell_type": "code",
      "execution_count": 9,
      "metadata": {
        "id": "i0wnDdv9sJ47"
      },
      "outputs": [],
      "source": [
        "# Crearmos el modelo generador de vectoeres\n",
        "# En este caso utilizaremos la estructura modelo Skipgram\n",
        "w2v_model = Word2Vec(min_count=5,       # frecuencia mínima de palabra para incluirla en el vocabulario\n",
        "                     window=2,          # cant de palabras antes y desp de la predicha\n",
        "                     size=300,          # dimensionalidad de los vectores \n",
        "                     negative=20,       # cantidad de negative samples... 0 es no se usa\n",
        "                     workers=1,         # si tienen más cores pueden cambiar este valor\n",
        "                     sg=1)              # modelo 0:CBOW  1:skipgram"
      ]
    },
    {
      "cell_type": "code",
      "execution_count": 10,
      "metadata": {
        "id": "5lTt8wErsf17"
      },
      "outputs": [],
      "source": [
        "# Buildear el vocabularui con los tokens\n",
        "w2v_model.build_vocab(sentence_tokens)"
      ]
    },
    {
      "cell_type": "code",
      "execution_count": 11,
      "metadata": {
        "id": "TNc9qt4os5AT"
      },
      "outputs": [
        {
          "name": "stdout",
          "output_type": "stream",
          "text": [
            "Cantidad de docs en el corpus: 9484\n"
          ]
        }
      ],
      "source": [
        "# Cantidad de filas/docs encontradas en el corpus\n",
        "print(\"Cantidad de docs en el corpus:\", w2v_model.corpus_count)"
      ]
    },
    {
      "cell_type": "code",
      "execution_count": 12,
      "metadata": {
        "id": "idw9cHF3tSMl"
      },
      "outputs": [
        {
          "name": "stdout",
          "output_type": "stream",
          "text": [
            "Cantidad de words distintas en el corpus: 1000\n"
          ]
        }
      ],
      "source": [
        "# Cantidad de words encontradas en el corpus\n",
        "print(\"Cantidad de words distintas en el corpus:\", len(w2v_model.wv.vocab))"
      ]
    },
    {
      "cell_type": "markdown",
      "metadata": {
        "id": "fC9mZ8DPk-UC"
      },
      "source": [
        "### 3 - Entrenar el modelo generador"
      ]
    },
    {
      "cell_type": "code",
      "execution_count": 13,
      "metadata": {
        "id": "QSp-x0PAsq56"
      },
      "outputs": [
        {
          "name": "stdout",
          "output_type": "stream",
          "text": [
            "Loss after epoch 0: 337560.65625\n",
            "Loss after epoch 1: 227757.09375\n",
            "Loss after epoch 2: 228931.0\n",
            "Loss after epoch 3: 225456.8125\n",
            "Loss after epoch 4: 196352.8125\n",
            "Loss after epoch 5: 188361.25\n",
            "Loss after epoch 6: 181669.5\n",
            "Loss after epoch 7: 174853.25\n",
            "Loss after epoch 8: 171838.25\n",
            "Loss after epoch 9: 165783.875\n",
            "Loss after epoch 10: 147294.0\n",
            "Loss after epoch 11: 145497.25\n",
            "Loss after epoch 12: 143081.0\n",
            "Loss after epoch 13: 141314.25\n",
            "Loss after epoch 14: 140920.0\n",
            "Loss after epoch 15: 138942.25\n",
            "Loss after epoch 16: 139251.75\n",
            "Loss after epoch 17: 137726.25\n",
            "Loss after epoch 18: 138762.0\n",
            "Loss after epoch 19: 137523.75\n"
          ]
        },
        {
          "data": {
            "text/plain": [
              "(626341, 993780)"
            ]
          },
          "execution_count": 13,
          "metadata": {},
          "output_type": "execute_result"
        }
      ],
      "source": [
        "# Entrenamos el modelo generador de vectores\n",
        "# Utilizamos nuestro callback\n",
        "w2v_model.train(sentence_tokens,\n",
        "                 total_examples=w2v_model.corpus_count,\n",
        "                 epochs=20,\n",
        "                 compute_loss = True,\n",
        "                 callbacks=[callback()]\n",
        "                 )"
      ]
    },
    {
      "cell_type": "markdown",
      "metadata": {
        "id": "ddT9NVuNlCAe"
      },
      "source": [
        "### 4 - Ensayar"
      ]
    },
    {
      "cell_type": "code",
      "execution_count": 14,
      "metadata": {
        "id": "6cHN9xGLuPEm"
      },
      "outputs": [
        {
          "name": "stdout",
          "output_type": "stream",
          "text": [
            "Palabras que MÁS se relacionan con...:\n",
            "* thriller \n",
            " [('winds', 0.8471239805221558), ('till', 0.8416576385498047), ('killer', 0.8151499032974243), ('darkness', 0.8041678667068481), ('big', 0.7986006736755371), ('breaking', 0.7833280563354492), ('history', 0.7809442281723022), ('injustice', 0.7768913507461548), ('lovers', 0.7725609540939331), ('s', 0.7716856002807617)]\n",
            "* remember \n",
            " [('doot', 0.7745230793952942), ('after', 0.7475050687789917), ('means', 0.7279583215713501), ('times', 0.7249292731285095), ('great', 0.7235779762268066), ('thrill', 0.717964231967926), ('perfect', 0.7160735726356506), ('choice', 0.6902207136154175), ('play', 0.6886769533157349), ('end', 0.6703741550445557)]\n",
            "* bad \n",
            " [('shameone', 0.9027756452560425), ('smooth', 0.8853279948234558), ('laughing', 0.8116799592971802), ('fast', 0.8079899549484253), ('bothered', 0.7920960783958435), ('telling', 0.7811301946640015), ('easy', 0.7695871591567993), ('everyday', 0.762784481048584), ('late', 0.7604116201400757), ('true', 0.7528793215751648)]\n"
          ]
        }
      ],
      "source": [
        "# Palabras que MÁS se relacionan con...:\n",
        "print(\"Palabras que MÁS se relacionan con...:\")\n",
        "print(\"* thriller \\n\", w2v_model.wv.most_similar(positive=[\"thriller\"], topn=10))\n",
        "print(\"* remember \\n\", w2v_model.wv.most_similar(positive=[\"remember\"], topn=10))\n",
        "print(\"* bad \\n\", w2v_model.wv.most_similar(positive=[\"bad\"], topn=10))"
      ]
    },
    {
      "cell_type": "code",
      "execution_count": 15,
      "metadata": {
        "id": "47HiU5gdkdMq"
      },
      "outputs": [
        {
          "name": "stdout",
          "output_type": "stream",
          "text": [
            "Palabras que MENOS se relacionan con...:\n",
            "* thriller \n",
            " [('cheater', 0.07655061036348343), ('refrain', 0.019761323928833008), ('pitbull', 0.007705641910433769), ('uuh', 0.005732991732656956), ('stevie', -0.010979164391756058), ('siedah', -0.026299960911273956), ('happens', -0.09750251471996307), ('let', -0.10877986997365952), ('whatever', -0.11904726177453995), (\"g'on\", -0.1207893118262291)]\n",
            "* remember \n",
            " [('cheater', 0.04230940341949463), ('pitbull', 0.03555934131145477), ('stevie', 0.02836664766073227), ('refrain', -0.024253804236650467), ('siedah', -0.06023828685283661), ('uuh', -0.0710870623588562), ('high', -0.10746919363737106), ('your', -0.11496143788099289), ('his', -0.1173308715224266), ('enough', -0.1291123777627945)]\n",
            "* bad \n",
            " [('cheater', 0.0656174048781395), ('pitbull', 0.03338500112295151), ('siedah', 0.025273408740758896), ('refrain', 0.004684077575802803), ('stevie', -0.0158399548381567), ('uuh', -0.0575295053422451), ('blow', -0.08758994936943054), ('her', -0.09087440371513367), ('change', -0.09170515835285187), ('inside', -0.11695745587348938)]\n"
          ]
        }
      ],
      "source": [
        "# Palabras que MENOS se relacionan con...:\n",
        "print(\"Palabras que MENOS se relacionan con...:\")\n",
        "print(\"* thriller \\n\", w2v_model.wv.most_similar(negative=[\"thriller\"], topn=10))\n",
        "print(\"* remember \\n\", w2v_model.wv.most_similar(negative=[\"remember\"], topn=10))\n",
        "print(\"* bad \\n\", w2v_model.wv.most_similar(negative=[\"bad\"], topn=10))"
      ]
    },
    {
      "cell_type": "code",
      "execution_count": 16,
      "metadata": {
        "id": "DT4Rvno2mD65"
      },
      "outputs": [
        {
          "data": {
            "text/plain": [
              "[('jean', 0.9890145063400269),\n",
              " ('son', 0.9004597663879395),\n",
              " ('lover', 0.871423602104187),\n",
              " ('kid', 0.8672822713851929),\n",
              " ('sleep', 0.8449476957321167),\n",
              " ('yours', 0.8257718086242676),\n",
              " ('dangerous', 0.822664737701416),\n",
              " ('dom', 0.8086676597595215),\n",
              " ('sheldon', 0.806425929069519),\n",
              " ('s', 0.8063123226165771)]"
            ]
          },
          "execution_count": 16,
          "metadata": {},
          "output_type": "execute_result"
        }
      ],
      "source": [
        "# Palabras que MÁS se relacionan con...:\n",
        "w2v_model.wv.most_similar(positive=[\"billie\"], topn=10)"
      ]
    },
    {
      "cell_type": "code",
      "execution_count": 17,
      "metadata": {
        "id": "XPLDPgzBmQXt"
      },
      "outputs": [
        {
          "data": {
            "text/plain": [
              "[('floor', 0.83399897813797),\n",
              " ('across', 0.8255425691604614),\n",
              " ('earth', 0.7911186814308167),\n",
              " ('carpet', 0.7882789373397827),\n",
              " ('greatest', 0.7828449010848999)]"
            ]
          },
          "execution_count": 17,
          "metadata": {},
          "output_type": "execute_result"
        }
      ],
      "source": [
        "# Palabras que MÁS se relacionan con...:\n",
        "w2v_model.wv.most_similar(positive=[\"dance\"], topn=5)"
      ]
    },
    {
      "cell_type": "code",
      "execution_count": 18,
      "metadata": {
        "id": "L_UvHPMMklOr"
      },
      "outputs": [
        {
          "ename": "KeyError",
          "evalue": "\"word 'diedaa' not in vocabulary\"",
          "output_type": "error",
          "traceback": [
            "\u001b[0;31m---------------------------------------------------------------------------\u001b[0m",
            "\u001b[0;31mKeyError\u001b[0m                                  Traceback (most recent call last)",
            "\u001b[0;32m/var/folders/2z/_1nm5m850ndfcssw15kkrprwbx86ph/T/ipykernel_34227/3914860936.py\u001b[0m in \u001b[0;36m<module>\u001b[0;34m\u001b[0m\n\u001b[1;32m      1\u001b[0m \u001b[0;31m# Ensayar con una palabra que no está en el corpus (en vocab):\u001b[0m\u001b[0;34m\u001b[0m\u001b[0;34m\u001b[0m\u001b[0;34m\u001b[0m\u001b[0m\n\u001b[0;32m----> 2\u001b[0;31m \u001b[0mw2v_model\u001b[0m\u001b[0;34m.\u001b[0m\u001b[0mwv\u001b[0m\u001b[0;34m.\u001b[0m\u001b[0mmost_similar\u001b[0m\u001b[0;34m(\u001b[0m\u001b[0mnegative\u001b[0m\u001b[0;34m=\u001b[0m\u001b[0;34m[\u001b[0m\u001b[0;34m\"diedaa\"\u001b[0m\u001b[0;34m]\u001b[0m\u001b[0;34m)\u001b[0m\u001b[0;34m\u001b[0m\u001b[0;34m\u001b[0m\u001b[0m\n\u001b[0m",
            "\u001b[0;32m~/.pyenv/versions/3.7.11/lib/python3.7/site-packages/gensim/models/keyedvectors.py\u001b[0m in \u001b[0;36mmost_similar\u001b[0;34m(self, positive, negative, topn, restrict_vocab, indexer)\u001b[0m\n\u001b[1;32m    551\u001b[0m                 \u001b[0mmean\u001b[0m\u001b[0;34m.\u001b[0m\u001b[0mappend\u001b[0m\u001b[0;34m(\u001b[0m\u001b[0mweight\u001b[0m \u001b[0;34m*\u001b[0m \u001b[0mword\u001b[0m\u001b[0;34m)\u001b[0m\u001b[0;34m\u001b[0m\u001b[0;34m\u001b[0m\u001b[0m\n\u001b[1;32m    552\u001b[0m             \u001b[0;32melse\u001b[0m\u001b[0;34m:\u001b[0m\u001b[0;34m\u001b[0m\u001b[0;34m\u001b[0m\u001b[0m\n\u001b[0;32m--> 553\u001b[0;31m                 \u001b[0mmean\u001b[0m\u001b[0;34m.\u001b[0m\u001b[0mappend\u001b[0m\u001b[0;34m(\u001b[0m\u001b[0mweight\u001b[0m \u001b[0;34m*\u001b[0m \u001b[0mself\u001b[0m\u001b[0;34m.\u001b[0m\u001b[0mword_vec\u001b[0m\u001b[0;34m(\u001b[0m\u001b[0mword\u001b[0m\u001b[0;34m,\u001b[0m \u001b[0muse_norm\u001b[0m\u001b[0;34m=\u001b[0m\u001b[0;32mTrue\u001b[0m\u001b[0;34m)\u001b[0m\u001b[0;34m)\u001b[0m\u001b[0;34m\u001b[0m\u001b[0;34m\u001b[0m\u001b[0m\n\u001b[0m\u001b[1;32m    554\u001b[0m                 \u001b[0;32mif\u001b[0m \u001b[0mword\u001b[0m \u001b[0;32min\u001b[0m \u001b[0mself\u001b[0m\u001b[0;34m.\u001b[0m\u001b[0mvocab\u001b[0m\u001b[0;34m:\u001b[0m\u001b[0;34m\u001b[0m\u001b[0;34m\u001b[0m\u001b[0m\n\u001b[1;32m    555\u001b[0m                     \u001b[0mall_words\u001b[0m\u001b[0;34m.\u001b[0m\u001b[0madd\u001b[0m\u001b[0;34m(\u001b[0m\u001b[0mself\u001b[0m\u001b[0;34m.\u001b[0m\u001b[0mvocab\u001b[0m\u001b[0;34m[\u001b[0m\u001b[0mword\u001b[0m\u001b[0;34m]\u001b[0m\u001b[0;34m.\u001b[0m\u001b[0mindex\u001b[0m\u001b[0;34m)\u001b[0m\u001b[0;34m\u001b[0m\u001b[0;34m\u001b[0m\u001b[0m\n",
            "\u001b[0;32m~/.pyenv/versions/3.7.11/lib/python3.7/site-packages/gensim/models/keyedvectors.py\u001b[0m in \u001b[0;36mword_vec\u001b[0;34m(self, word, use_norm)\u001b[0m\n\u001b[1;32m    466\u001b[0m             \u001b[0;32mreturn\u001b[0m \u001b[0mresult\u001b[0m\u001b[0;34m\u001b[0m\u001b[0;34m\u001b[0m\u001b[0m\n\u001b[1;32m    467\u001b[0m         \u001b[0;32melse\u001b[0m\u001b[0;34m:\u001b[0m\u001b[0;34m\u001b[0m\u001b[0;34m\u001b[0m\u001b[0m\n\u001b[0;32m--> 468\u001b[0;31m             \u001b[0;32mraise\u001b[0m \u001b[0mKeyError\u001b[0m\u001b[0;34m(\u001b[0m\u001b[0;34m\"word '%s' not in vocabulary\"\u001b[0m \u001b[0;34m%\u001b[0m \u001b[0mword\u001b[0m\u001b[0;34m)\u001b[0m\u001b[0;34m\u001b[0m\u001b[0;34m\u001b[0m\u001b[0m\n\u001b[0m\u001b[1;32m    469\u001b[0m \u001b[0;34m\u001b[0m\u001b[0m\n\u001b[1;32m    470\u001b[0m     \u001b[0;32mdef\u001b[0m \u001b[0mget_vector\u001b[0m\u001b[0;34m(\u001b[0m\u001b[0mself\u001b[0m\u001b[0;34m,\u001b[0m \u001b[0mword\u001b[0m\u001b[0;34m)\u001b[0m\u001b[0;34m:\u001b[0m\u001b[0;34m\u001b[0m\u001b[0;34m\u001b[0m\u001b[0m\n",
            "\u001b[0;31mKeyError\u001b[0m: \"word 'diedaa' not in vocabulary\""
          ]
        }
      ],
      "source": [
        "# Ensayar con una palabra que no está en el corpus (en vocab):\n",
        "w2v_model.wv.most_similar(negative=[\"diedaa\"])"
      ]
    },
    {
      "cell_type": "markdown",
      "metadata": {
        "id": "_g8UVWe6lFmh"
      },
      "source": [
        "### 5 - Visualizar agrupación de vectores"
      ]
    },
    {
      "cell_type": "code",
      "execution_count": 19,
      "metadata": {
        "id": "pDxEVXAivjr9"
      },
      "outputs": [],
      "source": [
        "from sklearn.decomposition import IncrementalPCA    \n",
        "from sklearn.manifold import TSNE                   \n",
        "import numpy as np                                  \n",
        "\n",
        "def reduce_dimensions(model):\n",
        "    num_dimensions = 2  \n",
        "\n",
        "    vectors = np.asarray(model.wv.vectors)\n",
        "    labels = np.asarray(model.wv.index2word)  \n",
        "\n",
        "    tsne = TSNE(n_components=num_dimensions, random_state=0)\n",
        "    vectors = tsne.fit_transform(vectors)\n",
        "\n",
        "    x_vals = [v[0] for v in vectors]\n",
        "    y_vals = [v[1] for v in vectors]\n",
        "    return x_vals, y_vals, labels"
      ]
    },
    {
      "cell_type": "code",
      "execution_count": 20,
      "metadata": {},
      "outputs": [
        {
          "name": "stdout",
          "output_type": "stream",
          "text": [
            "Requirement already satisfied: plotly in /Users/ext_asalassa/.pyenv/versions/3.7.11/lib/python3.7/site-packages (5.6.0)\n",
            "Requirement already satisfied: nbformat==4.2.0 in /Users/ext_asalassa/.pyenv/versions/3.7.11/lib/python3.7/site-packages (4.2.0)\n",
            "Requirement already satisfied: tenacity>=6.2.0 in /Users/ext_asalassa/.pyenv/versions/3.7.11/lib/python3.7/site-packages (from plotly) (8.0.1)\n",
            "Requirement already satisfied: six in /Users/ext_asalassa/.local/lib/python3.7/site-packages (from plotly) (1.16.0)\n",
            "Requirement already satisfied: jupyter-core in /Users/ext_asalassa/.pyenv/versions/3.7.11/lib/python3.7/site-packages (from nbformat==4.2.0) (4.7.1)\n",
            "Requirement already satisfied: traitlets>=4.1 in /Users/ext_asalassa/.pyenv/versions/3.7.11/lib/python3.7/site-packages (from nbformat==4.2.0) (5.1.0)\n",
            "Requirement already satisfied: jsonschema!=2.5.0,>=2.4 in /Users/ext_asalassa/.local/lib/python3.7/site-packages (from nbformat==4.2.0) (3.2.0)\n",
            "Requirement already satisfied: ipython-genutils in /Users/ext_asalassa/.pyenv/versions/3.7.11/lib/python3.7/site-packages (from nbformat==4.2.0) (0.2.0)\n",
            "Requirement already satisfied: attrs>=17.4.0 in /Users/ext_asalassa/.local/lib/python3.7/site-packages (from jsonschema!=2.5.0,>=2.4->nbformat==4.2.0) (21.2.0)\n",
            "Requirement already satisfied: pyrsistent>=0.14.0 in /Users/ext_asalassa/.local/lib/python3.7/site-packages (from jsonschema!=2.5.0,>=2.4->nbformat==4.2.0) (0.18.0)\n",
            "Requirement already satisfied: importlib-metadata; python_version < \"3.8\" in /Users/ext_asalassa/.local/lib/python3.7/site-packages (from jsonschema!=2.5.0,>=2.4->nbformat==4.2.0) (4.6.4)\n",
            "Requirement already satisfied: setuptools in /Users/ext_asalassa/.pyenv/versions/3.7.11/lib/python3.7/site-packages (from jsonschema!=2.5.0,>=2.4->nbformat==4.2.0) (47.1.0)\n",
            "Requirement already satisfied: typing-extensions>=3.6.4; python_version < \"3.8\" in /Users/ext_asalassa/.pyenv/versions/3.7.11/lib/python3.7/site-packages (from importlib-metadata; python_version < \"3.8\"->jsonschema!=2.5.0,>=2.4->nbformat==4.2.0) (3.7.4.3)\n",
            "Requirement already satisfied: zipp>=0.5 in /Users/ext_asalassa/.local/lib/python3.7/site-packages (from importlib-metadata; python_version < \"3.8\"->jsonschema!=2.5.0,>=2.4->nbformat==4.2.0) (3.5.0)\n",
            "\u001b[33mWARNING: You are using pip version 20.1.1; however, version 22.0.4 is available.\n",
            "You should consider upgrading via the '/Users/ext_asalassa/.pyenv/versions/3.7.11/bin/python3.7 -m pip install --upgrade pip' command.\u001b[0m\n"
          ]
        }
      ],
      "source": [
        "!pip install plotly nbformat==4.2.0"
      ]
    },
    {
      "cell_type": "code",
      "execution_count": 21,
      "metadata": {
        "id": "NCCXtDpcugmd"
      },
      "outputs": [
        {
          "name": "stderr",
          "output_type": "stream",
          "text": [
            "/Users/ext_asalassa/.pyenv/versions/3.7.11/lib/python3.7/site-packages/sklearn/manifold/_t_sne.py:783: FutureWarning: The default initialization in TSNE will change from 'random' to 'pca' in 1.2.\n",
            "  FutureWarning,\n",
            "/Users/ext_asalassa/.pyenv/versions/3.7.11/lib/python3.7/site-packages/sklearn/manifold/_t_sne.py:793: FutureWarning: The default learning rate in TSNE will change from 200.0 to 'auto' in 1.2.\n",
            "  FutureWarning,\n"
          ]
        }
      ],
      "source": [
        "# Graficar los embedddings en 2D\n",
        "import plotly.graph_objects as go\n",
        "import plotly.express as px\n",
        "\n",
        "x_vals, y_vals, labels = reduce_dimensions(w2v_model)"
      ]
    },
    {
      "cell_type": "code",
      "execution_count": 24,
      "metadata": {},
      "outputs": [
        {
          "data": {
            "application/vnd.plotly.v1+json": {
              "config": {
                "plotlyServerURL": "https://plot.ly"
              },
              "data": [
                {
                  "hovertemplate": "x=%{x}<br>y=%{y}<br>text=%{text}<extra></extra>",
                  "legendgroup": "",
                  "marker": {
                    "color": "#636efa",
                    "symbol": "circle"
                  },
                  "mode": "markers+text",
                  "name": "",
                  "orientation": "v",
                  "showlegend": false,
                  "text": [
                    "you",
                    "the",
                    "i",
                    "me",
                    "to",
                    "and",
                    "it",
                    "a",
                    "my",
                    "in",
                    "love",
                    "your",
                    "don't",
                    "is",
                    "of",
                    "that",
                    "on",
                    "just",
                    "be",
                    "for",
                    "all",
                    "baby",
                    "so",
                    "know",
                    "no",
                    "you're",
                    "i'm",
                    "do",
                    "get",
                    "got",
                    "what",
                    "girl",
                    "she",
                    "are",
                    "with",
                    "yeah",
                    "bad",
                    "make",
                    "it's",
                    "we",
                    "like",
                    "can",
                    "but",
                    "if",
                    "really",
                    "about",
                    "when",
                    "can't",
                    "this",
                    "let",
                    "oh",
                    "wanna",
                    "too",
                    "he",
                    "world",
                    "stop",
                    "now",
                    "take",
                    "there",
                    "her",
                    "give",
                    "time",
                    "go",
                    "see",
                    "come",
                    "keep",
                    "how",
                    "will",
                    "why",
                    "one",
                    "ain't",
                    "way",
                    "they",
                    "have",
                    "life",
                    "right",
                    "away",
                    "chorus",
                    "feel",
                    "not",
                    "around",
                    "gonna",
                    "say",
                    "up",
                    "down",
                    "she's",
                    "was",
                    "out",
                    "tell",
                    "want",
                    "day",
                    "hold",
                    "hee",
                    "'cause",
                    "night",
                    "never",
                    "alone",
                    "i'll",
                    "then",
                    "am",
                    "we're",
                    "us",
                    "who",
                    "mine",
                    "heart",
                    "michael",
                    "at",
                    "need",
                    "back",
                    "man",
                    "there's",
                    "every",
                    "from",
                    "here",
                    "hand",
                    "had",
                    "dah",
                    "leave",
                    "enough",
                    "things",
                    "verse",
                    "change",
                    "cry",
                    "or",
                    "that's",
                    "won't",
                    "much",
                    "na",
                    "did",
                    "would",
                    "gone",
                    "look",
                    "said",
                    "better",
                    "as",
                    "always",
                    "you'll",
                    "hoo",
                    "ooh",
                    "remember",
                    "matter",
                    "where",
                    "could",
                    "because",
                    "care",
                    "by",
                    "i've",
                    "place",
                    "doesn't",
                    "good",
                    "stay",
                    "through",
                    "our",
                    "soul",
                    "'til",
                    "anything",
                    "some",
                    "off",
                    "still",
                    "eyes",
                    "forever",
                    "only",
                    "should",
                    "though",
                    "thought",
                    "gotta",
                    "live",
                    "ok",
                    "ever",
                    "been",
                    "find",
                    "think",
                    "da",
                    "beat",
                    "annie",
                    "don’t",
                    "thing",
                    "free",
                    "again",
                    "told",
                    "came",
                    "dance",
                    "mind",
                    "together",
                    "workin'",
                    "tonight",
                    "wants",
                    "refrain",
                    "over",
                    "more",
                    "has",
                    "cold",
                    "his",
                    "fly",
                    "people",
                    "money",
                    "does",
                    "him",
                    "before",
                    "scream"
                  ],
                  "type": "scatter",
                  "x": [
                    -8.532191276550293,
                    -26.559913635253906,
                    -5.057160377502441,
                    -1.9426870346069336,
                    -4.515687465667725,
                    -8.584763526916504,
                    1.9145020246505737,
                    -23.453575134277344,
                    -26.451704025268555,
                    -24.547521591186523,
                    22.140220642089844,
                    -2.955470085144043,
                    -19.882160186767578,
                    8.169407844543457,
                    15.932867050170898,
                    2.865265130996704,
                    -32.711002349853516,
                    -9.827630996704102,
                    21.211864471435547,
                    10.456305503845215,
                    13.521746635437012,
                    -10.180587768554688,
                    14.746944427490234,
                    28.992385864257812,
                    21.59296226501465,
                    29.22399139404297,
                    30.725133895874023,
                    -9.170644760131836,
                    -29.93926239013672,
                    13.853630065917969,
                    -2.4550442695617676,
                    17.099075317382812,
                    -1.2351716756820679,
                    18.195636749267578,
                    -34.87885284423828,
                    -36.16634750366211,
                    30.3832950592041,
                    -13.049578666687012,
                    29.326499938964844,
                    -5.384563446044922,
                    5.014856815338135,
                    -8.892443656921387,
                    15.654451370239258,
                    -12.557625770568848,
                    -4.987221717834473,
                    -1.239985704421997,
                    -5.917037010192871,
                    -13.593207359313965,
                    9.670084953308105,
                    -16.638263702392578,
                    23.927453994750977,
                    -11.25668716430664,
                    25.299728393554688,
                    -2.924424886703491,
                    -10.72266674041748,
                    -19.920093536376953,
                    21.886186599731445,
                    -30.882116317749023,
                    16.02315902709961,
                    -1.6399717330932617,
                    -7.362421035766602,
                    9.621537208557129,
                    -17.474655151367188,
                    -14.447257995605469,
                    -30.144115447998047,
                    -30.13675308227539,
                    3.0631542205810547,
                    13.373222351074219,
                    -12.862834930419922,
                    17.76265525817871,
                    24.658353805541992,
                    1.8312536478042603,
                    -3.789139747619629,
                    22.41579818725586,
                    7.0823774337768555,
                    -28.662988662719727,
                    3.2239949703216553,
                    24.358510971069336,
                    3.6512503623962402,
                    10.569469451904297,
                    -9.056896209716797,
                    -14.048852920532227,
                    -5.548299789428711,
                    -29.959692001342773,
                    -27.455366134643555,
                    29.43718910217285,
                    14.936948776245117,
                    27.14157485961914,
                    -10.800786972045898,
                    -6.850674152374268,
                    -11.110950469970703,
                    -20.387126922607422,
                    17.42167854309082,
                    30.553579330444336,
                    -11.573752403259277,
                    9.485862731933594,
                    13.316267013549805,
                    -10.401497840881348,
                    -11.587202072143555,
                    -0.5879898071289062,
                    28.71900177001953,
                    -3.520261287689209,
                    -12.917734146118164,
                    18.293720245361328,
                    -17.643545150756836,
                    18.33152198791504,
                    5.597105026245117,
                    -1.6217771768569946,
                    -28.049962997436523,
                    -34.27400207519531,
                    -32.8213996887207,
                    8.717304229736328,
                    -0.6888311505317688,
                    -12.697504043579102,
                    -20.875743865966797,
                    -5.0007219314575195,
                    -2.5854835510253906,
                    -5.561359405517578,
                    -20.891035079956055,
                    -9.441736221313477,
                    24.953624725341797,
                    -8.035577774047852,
                    -21.79792022705078,
                    8.848235130310059,
                    2.454312801361084,
                    -24.39951515197754,
                    24.323986053466797,
                    15.796009063720703,
                    -13.995597839355469,
                    -7.87713098526001,
                    23.740421295166016,
                    4.089380741119385,
                    -5.575433731079102,
                    -12.369292259216309,
                    -4.479562282562256,
                    13.940544128417969,
                    -10.166887283325195,
                    15.657744407653809,
                    4.351040363311768,
                    -8.39332389831543,
                    2.1557161808013916,
                    -15.035987854003906,
                    -9.715941429138184,
                    33.06638717651367,
                    0.18306729197502136,
                    7.936205863952637,
                    12.506113052368164,
                    15.52348804473877,
                    2.4134762287139893,
                    21.324262619018555,
                    -15.637189865112305,
                    3.5373647212982178,
                    5.249957084655762,
                    -26.165691375732422,
                    -21.440637588500977,
                    -12.168513298034668,
                    -9.496696472167969,
                    -19.87293243408203,
                    -2.7737464904785156,
                    -20.81475067138672,
                    11.573298454284668,
                    -2.1801798343658447,
                    21.410354614257812,
                    27.416893005371094,
                    -5.248560905456543,
                    -3.8569350242614746,
                    -19.063323974609375,
                    17.473133087158203,
                    -15.88870906829834,
                    14.124892234802246,
                    -4.489940166473389,
                    24.026321411132812,
                    25.85274314880371,
                    -17.344619750976562,
                    17.562135696411133,
                    -11.108139038085938,
                    13.945109367370605,
                    6.305647850036621,
                    -9.982070922851562,
                    19.366621017456055,
                    -15.057750701904297,
                    -28.98900604248047,
                    -1.8216500282287598,
                    -4.17816686630249,
                    -13.26511001586914,
                    3.0449533462524414,
                    -5.96267557144165,
                    7.221296310424805,
                    -33.671688079833984,
                    17.578487396240234,
                    -11.26102066040039,
                    -37.425628662109375,
                    28.75253677368164,
                    -26.467668533325195,
                    26.349130630493164,
                    -12.20360279083252,
                    1.4079840183258057,
                    -7.133734226226807,
                    13.748340606689453,
                    -35.50480651855469
                  ],
                  "xaxis": "x",
                  "y": [
                    7.141782283782959,
                    -20.745941162109375,
                    7.698726654052734,
                    18.15064811706543,
                    6.068675518035889,
                    5.599848747253418,
                    -27.92889976501465,
                    23.29401969909668,
                    -5.538232326507568,
                    -7.281164646148682,
                    -21.884260177612305,
                    15.038787841796875,
                    4.676527976989746,
                    -13.720488548278809,
                    -28.32425880432129,
                    -10.792104721069336,
                    -15.701739311218262,
                    5.716815948486328,
                    -15.508161544799805,
                    -18.71177101135254,
                    -18.753610610961914,
                    -15.76445484161377,
                    5.172707557678223,
                    1.4170228242874146,
                    10.638729095458984,
                    -11.595636367797852,
                    0.5960757732391357,
                    -2.3141567707061768,
                    7.779898166656494,
                    9.041701316833496,
                    21.864055633544922,
                    -15.718721389770508,
                    10.140144348144531,
                    -19.41960334777832,
                    -13.190279960632324,
                    8.663677215576172,
                    2.0684196949005127,
                    2.4765491485595703,
                    -10.428933143615723,
                    9.977998733520508,
                    -11.477705001831055,
                    13.565755844116211,
                    -11.50802993774414,
                    8.25868034362793,
                    -14.834197044372559,
                    25.386327743530273,
                    13.875391006469727,
                    7.3133673667907715,
                    -15.879887580871582,
                    4.077855110168457,
                    13.456199645996094,
                    5.325411319732666,
                    0.4155091941356659,
                    9.88010025024414,
                    -28.51889419555664,
                    2.7217981815338135,
                    3.9049735069274902,
                    -7.755980968475342,
                    -9.5742769241333,
                    15.723577499389648,
                    -22.07253074645996,
                    -21.877328872680664,
                    5.468684196472168,
                    11.8922700881958,
                    -6.00139856338501,
                    -14.565010070800781,
                    -22.070829391479492,
                    -13.983843803405762,
                    -2.1350674629211426,
                    12.953988075256348,
                    1.5896135568618774,
                    -15.332382202148438,
                    9.055014610290527,
                    -8.199625015258789,
                    -21.101329803466797,
                    13.519765853881836,
                    13.09007740020752,
                    20.757951736450195,
                    -17.20052719116211,
                    -28.918569564819336,
                    24.551738739013672,
                    16.92658233642578,
                    -7.877577304840088,
                    3.669647693634033,
                    19.095932006835938,
                    9.863785743713379,
                    -6.876643180847168,
                    18.413177490234375,
                    -1.4468772411346436,
                    -4.8334221839904785,
                    -9.932669639587402,
                    -15.93508529663086,
                    28.755126953125,
                    -1.6095976829528809,
                    -12.284526824951172,
                    19.322017669677734,
                    7.515756607055664,
                    15.593454360961914,
                    0.66126948595047,
                    -18.969419479370117,
                    -4.481698036193848,
                    24.73353385925293,
                    -27.950756072998047,
                    -14.916457176208496,
                    -6.539472579956055,
                    22.465341567993164,
                    20.129316329956055,
                    -9.408452033996582,
                    -9.777161598205566,
                    -3.5878703594207764,
                    0.0909281000494957,
                    16.20793342590332,
                    12.868688583374023,
                    16.624393463134766,
                    -3.829092502593994,
                    -13.047642707824707,
                    11.739564895629883,
                    30.070707321166992,
                    0.8535369038581848,
                    -5.153524398803711,
                    21.401611328125,
                    -26.96725845336914,
                    -16.436269760131836,
                    24.770795822143555,
                    -19.255525588989258,
                    4.259183883666992,
                    -0.5898405313491821,
                    21.545244216918945,
                    -0.10725020617246628,
                    -7.167665958404541,
                    3.3212761878967285,
                    20.232271194458008,
                    -17.43446159362793,
                    12.84206485748291,
                    12.274412155151367,
                    -10.262106895446777,
                    15.314263343811035,
                    28.58742332458496,
                    26.43389129638672,
                    -3.5126495361328125,
                    -24.34497833251953,
                    -1.2753006219863892,
                    11.365779876708984,
                    0.12928041815757751,
                    25.516834259033203,
                    11.060076713562012,
                    14.555323600769043,
                    10.50263786315918,
                    -26.208906173706055,
                    6.193270206451416,
                    16.032522201538086,
                    12.582420349121094,
                    -19.683181762695312,
                    -2.8371996879577637,
                    2.7032086849212646,
                    -5.219557285308838,
                    -7.070198059082031,
                    -20.784387588500977,
                    -7.54378604888916,
                    -9.653329849243164,
                    -12.451581954956055,
                    -15.4193754196167,
                    -9.814432144165039,
                    -2.0336203575134277,
                    -14.46711540222168,
                    30.252187728881836,
                    -22.06418800354004,
                    -20.08051109313965,
                    0.9283124804496765,
                    12.926746368408203,
                    -10.104660034179688,
                    -22.562702178955078,
                    28.701416015625,
                    20.144514083862305,
                    -19.99871063232422,
                    24.921110153198242,
                    -0.33196404576301575,
                    -12.282732963562012,
                    -0.049192968755960464,
                    -8.697468757629395,
                    -5.927955150604248,
                    -19.75959587097168,
                    5.5669684410095215,
                    18.25893211364746,
                    -11.957012176513672,
                    16.7882137298584,
                    -21.41524887084961,
                    33.53776168823242,
                    10.655547142028809,
                    12.119686126708984,
                    -26.716346740722656,
                    -2.650205612182617,
                    -17.665632247924805,
                    11.518074989318848,
                    -7.149216651916504,
                    -5.211174011230469,
                    -21.175439834594727,
                    5.71637487411499,
                    11.966273307800293,
                    -8.067521095275879
                  ],
                  "yaxis": "y"
                }
              ],
              "layout": {
                "legend": {
                  "tracegroupgap": 0
                },
                "margin": {
                  "t": 60
                },
                "template": {
                  "data": {
                    "bar": [
                      {
                        "error_x": {
                          "color": "#2a3f5f"
                        },
                        "error_y": {
                          "color": "#2a3f5f"
                        },
                        "marker": {
                          "line": {
                            "color": "#E5ECF6",
                            "width": 0.5
                          },
                          "pattern": {
                            "fillmode": "overlay",
                            "size": 10,
                            "solidity": 0.2
                          }
                        },
                        "type": "bar"
                      }
                    ],
                    "barpolar": [
                      {
                        "marker": {
                          "line": {
                            "color": "#E5ECF6",
                            "width": 0.5
                          },
                          "pattern": {
                            "fillmode": "overlay",
                            "size": 10,
                            "solidity": 0.2
                          }
                        },
                        "type": "barpolar"
                      }
                    ],
                    "carpet": [
                      {
                        "aaxis": {
                          "endlinecolor": "#2a3f5f",
                          "gridcolor": "white",
                          "linecolor": "white",
                          "minorgridcolor": "white",
                          "startlinecolor": "#2a3f5f"
                        },
                        "baxis": {
                          "endlinecolor": "#2a3f5f",
                          "gridcolor": "white",
                          "linecolor": "white",
                          "minorgridcolor": "white",
                          "startlinecolor": "#2a3f5f"
                        },
                        "type": "carpet"
                      }
                    ],
                    "choropleth": [
                      {
                        "colorbar": {
                          "outlinewidth": 0,
                          "ticks": ""
                        },
                        "type": "choropleth"
                      }
                    ],
                    "contour": [
                      {
                        "colorbar": {
                          "outlinewidth": 0,
                          "ticks": ""
                        },
                        "colorscale": [
                          [
                            0,
                            "#0d0887"
                          ],
                          [
                            0.1111111111111111,
                            "#46039f"
                          ],
                          [
                            0.2222222222222222,
                            "#7201a8"
                          ],
                          [
                            0.3333333333333333,
                            "#9c179e"
                          ],
                          [
                            0.4444444444444444,
                            "#bd3786"
                          ],
                          [
                            0.5555555555555556,
                            "#d8576b"
                          ],
                          [
                            0.6666666666666666,
                            "#ed7953"
                          ],
                          [
                            0.7777777777777778,
                            "#fb9f3a"
                          ],
                          [
                            0.8888888888888888,
                            "#fdca26"
                          ],
                          [
                            1,
                            "#f0f921"
                          ]
                        ],
                        "type": "contour"
                      }
                    ],
                    "contourcarpet": [
                      {
                        "colorbar": {
                          "outlinewidth": 0,
                          "ticks": ""
                        },
                        "type": "contourcarpet"
                      }
                    ],
                    "heatmap": [
                      {
                        "colorbar": {
                          "outlinewidth": 0,
                          "ticks": ""
                        },
                        "colorscale": [
                          [
                            0,
                            "#0d0887"
                          ],
                          [
                            0.1111111111111111,
                            "#46039f"
                          ],
                          [
                            0.2222222222222222,
                            "#7201a8"
                          ],
                          [
                            0.3333333333333333,
                            "#9c179e"
                          ],
                          [
                            0.4444444444444444,
                            "#bd3786"
                          ],
                          [
                            0.5555555555555556,
                            "#d8576b"
                          ],
                          [
                            0.6666666666666666,
                            "#ed7953"
                          ],
                          [
                            0.7777777777777778,
                            "#fb9f3a"
                          ],
                          [
                            0.8888888888888888,
                            "#fdca26"
                          ],
                          [
                            1,
                            "#f0f921"
                          ]
                        ],
                        "type": "heatmap"
                      }
                    ],
                    "heatmapgl": [
                      {
                        "colorbar": {
                          "outlinewidth": 0,
                          "ticks": ""
                        },
                        "colorscale": [
                          [
                            0,
                            "#0d0887"
                          ],
                          [
                            0.1111111111111111,
                            "#46039f"
                          ],
                          [
                            0.2222222222222222,
                            "#7201a8"
                          ],
                          [
                            0.3333333333333333,
                            "#9c179e"
                          ],
                          [
                            0.4444444444444444,
                            "#bd3786"
                          ],
                          [
                            0.5555555555555556,
                            "#d8576b"
                          ],
                          [
                            0.6666666666666666,
                            "#ed7953"
                          ],
                          [
                            0.7777777777777778,
                            "#fb9f3a"
                          ],
                          [
                            0.8888888888888888,
                            "#fdca26"
                          ],
                          [
                            1,
                            "#f0f921"
                          ]
                        ],
                        "type": "heatmapgl"
                      }
                    ],
                    "histogram": [
                      {
                        "marker": {
                          "pattern": {
                            "fillmode": "overlay",
                            "size": 10,
                            "solidity": 0.2
                          }
                        },
                        "type": "histogram"
                      }
                    ],
                    "histogram2d": [
                      {
                        "colorbar": {
                          "outlinewidth": 0,
                          "ticks": ""
                        },
                        "colorscale": [
                          [
                            0,
                            "#0d0887"
                          ],
                          [
                            0.1111111111111111,
                            "#46039f"
                          ],
                          [
                            0.2222222222222222,
                            "#7201a8"
                          ],
                          [
                            0.3333333333333333,
                            "#9c179e"
                          ],
                          [
                            0.4444444444444444,
                            "#bd3786"
                          ],
                          [
                            0.5555555555555556,
                            "#d8576b"
                          ],
                          [
                            0.6666666666666666,
                            "#ed7953"
                          ],
                          [
                            0.7777777777777778,
                            "#fb9f3a"
                          ],
                          [
                            0.8888888888888888,
                            "#fdca26"
                          ],
                          [
                            1,
                            "#f0f921"
                          ]
                        ],
                        "type": "histogram2d"
                      }
                    ],
                    "histogram2dcontour": [
                      {
                        "colorbar": {
                          "outlinewidth": 0,
                          "ticks": ""
                        },
                        "colorscale": [
                          [
                            0,
                            "#0d0887"
                          ],
                          [
                            0.1111111111111111,
                            "#46039f"
                          ],
                          [
                            0.2222222222222222,
                            "#7201a8"
                          ],
                          [
                            0.3333333333333333,
                            "#9c179e"
                          ],
                          [
                            0.4444444444444444,
                            "#bd3786"
                          ],
                          [
                            0.5555555555555556,
                            "#d8576b"
                          ],
                          [
                            0.6666666666666666,
                            "#ed7953"
                          ],
                          [
                            0.7777777777777778,
                            "#fb9f3a"
                          ],
                          [
                            0.8888888888888888,
                            "#fdca26"
                          ],
                          [
                            1,
                            "#f0f921"
                          ]
                        ],
                        "type": "histogram2dcontour"
                      }
                    ],
                    "mesh3d": [
                      {
                        "colorbar": {
                          "outlinewidth": 0,
                          "ticks": ""
                        },
                        "type": "mesh3d"
                      }
                    ],
                    "parcoords": [
                      {
                        "line": {
                          "colorbar": {
                            "outlinewidth": 0,
                            "ticks": ""
                          }
                        },
                        "type": "parcoords"
                      }
                    ],
                    "pie": [
                      {
                        "automargin": true,
                        "type": "pie"
                      }
                    ],
                    "scatter": [
                      {
                        "marker": {
                          "colorbar": {
                            "outlinewidth": 0,
                            "ticks": ""
                          }
                        },
                        "type": "scatter"
                      }
                    ],
                    "scatter3d": [
                      {
                        "line": {
                          "colorbar": {
                            "outlinewidth": 0,
                            "ticks": ""
                          }
                        },
                        "marker": {
                          "colorbar": {
                            "outlinewidth": 0,
                            "ticks": ""
                          }
                        },
                        "type": "scatter3d"
                      }
                    ],
                    "scattercarpet": [
                      {
                        "marker": {
                          "colorbar": {
                            "outlinewidth": 0,
                            "ticks": ""
                          }
                        },
                        "type": "scattercarpet"
                      }
                    ],
                    "scattergeo": [
                      {
                        "marker": {
                          "colorbar": {
                            "outlinewidth": 0,
                            "ticks": ""
                          }
                        },
                        "type": "scattergeo"
                      }
                    ],
                    "scattergl": [
                      {
                        "marker": {
                          "colorbar": {
                            "outlinewidth": 0,
                            "ticks": ""
                          }
                        },
                        "type": "scattergl"
                      }
                    ],
                    "scattermapbox": [
                      {
                        "marker": {
                          "colorbar": {
                            "outlinewidth": 0,
                            "ticks": ""
                          }
                        },
                        "type": "scattermapbox"
                      }
                    ],
                    "scatterpolar": [
                      {
                        "marker": {
                          "colorbar": {
                            "outlinewidth": 0,
                            "ticks": ""
                          }
                        },
                        "type": "scatterpolar"
                      }
                    ],
                    "scatterpolargl": [
                      {
                        "marker": {
                          "colorbar": {
                            "outlinewidth": 0,
                            "ticks": ""
                          }
                        },
                        "type": "scatterpolargl"
                      }
                    ],
                    "scatterternary": [
                      {
                        "marker": {
                          "colorbar": {
                            "outlinewidth": 0,
                            "ticks": ""
                          }
                        },
                        "type": "scatterternary"
                      }
                    ],
                    "surface": [
                      {
                        "colorbar": {
                          "outlinewidth": 0,
                          "ticks": ""
                        },
                        "colorscale": [
                          [
                            0,
                            "#0d0887"
                          ],
                          [
                            0.1111111111111111,
                            "#46039f"
                          ],
                          [
                            0.2222222222222222,
                            "#7201a8"
                          ],
                          [
                            0.3333333333333333,
                            "#9c179e"
                          ],
                          [
                            0.4444444444444444,
                            "#bd3786"
                          ],
                          [
                            0.5555555555555556,
                            "#d8576b"
                          ],
                          [
                            0.6666666666666666,
                            "#ed7953"
                          ],
                          [
                            0.7777777777777778,
                            "#fb9f3a"
                          ],
                          [
                            0.8888888888888888,
                            "#fdca26"
                          ],
                          [
                            1,
                            "#f0f921"
                          ]
                        ],
                        "type": "surface"
                      }
                    ],
                    "table": [
                      {
                        "cells": {
                          "fill": {
                            "color": "#EBF0F8"
                          },
                          "line": {
                            "color": "white"
                          }
                        },
                        "header": {
                          "fill": {
                            "color": "#C8D4E3"
                          },
                          "line": {
                            "color": "white"
                          }
                        },
                        "type": "table"
                      }
                    ]
                  },
                  "layout": {
                    "annotationdefaults": {
                      "arrowcolor": "#2a3f5f",
                      "arrowhead": 0,
                      "arrowwidth": 1
                    },
                    "autotypenumbers": "strict",
                    "coloraxis": {
                      "colorbar": {
                        "outlinewidth": 0,
                        "ticks": ""
                      }
                    },
                    "colorscale": {
                      "diverging": [
                        [
                          0,
                          "#8e0152"
                        ],
                        [
                          0.1,
                          "#c51b7d"
                        ],
                        [
                          0.2,
                          "#de77ae"
                        ],
                        [
                          0.3,
                          "#f1b6da"
                        ],
                        [
                          0.4,
                          "#fde0ef"
                        ],
                        [
                          0.5,
                          "#f7f7f7"
                        ],
                        [
                          0.6,
                          "#e6f5d0"
                        ],
                        [
                          0.7,
                          "#b8e186"
                        ],
                        [
                          0.8,
                          "#7fbc41"
                        ],
                        [
                          0.9,
                          "#4d9221"
                        ],
                        [
                          1,
                          "#276419"
                        ]
                      ],
                      "sequential": [
                        [
                          0,
                          "#0d0887"
                        ],
                        [
                          0.1111111111111111,
                          "#46039f"
                        ],
                        [
                          0.2222222222222222,
                          "#7201a8"
                        ],
                        [
                          0.3333333333333333,
                          "#9c179e"
                        ],
                        [
                          0.4444444444444444,
                          "#bd3786"
                        ],
                        [
                          0.5555555555555556,
                          "#d8576b"
                        ],
                        [
                          0.6666666666666666,
                          "#ed7953"
                        ],
                        [
                          0.7777777777777778,
                          "#fb9f3a"
                        ],
                        [
                          0.8888888888888888,
                          "#fdca26"
                        ],
                        [
                          1,
                          "#f0f921"
                        ]
                      ],
                      "sequentialminus": [
                        [
                          0,
                          "#0d0887"
                        ],
                        [
                          0.1111111111111111,
                          "#46039f"
                        ],
                        [
                          0.2222222222222222,
                          "#7201a8"
                        ],
                        [
                          0.3333333333333333,
                          "#9c179e"
                        ],
                        [
                          0.4444444444444444,
                          "#bd3786"
                        ],
                        [
                          0.5555555555555556,
                          "#d8576b"
                        ],
                        [
                          0.6666666666666666,
                          "#ed7953"
                        ],
                        [
                          0.7777777777777778,
                          "#fb9f3a"
                        ],
                        [
                          0.8888888888888888,
                          "#fdca26"
                        ],
                        [
                          1,
                          "#f0f921"
                        ]
                      ]
                    },
                    "colorway": [
                      "#636efa",
                      "#EF553B",
                      "#00cc96",
                      "#ab63fa",
                      "#FFA15A",
                      "#19d3f3",
                      "#FF6692",
                      "#B6E880",
                      "#FF97FF",
                      "#FECB52"
                    ],
                    "font": {
                      "color": "#2a3f5f"
                    },
                    "geo": {
                      "bgcolor": "white",
                      "lakecolor": "white",
                      "landcolor": "#E5ECF6",
                      "showlakes": true,
                      "showland": true,
                      "subunitcolor": "white"
                    },
                    "hoverlabel": {
                      "align": "left"
                    },
                    "hovermode": "closest",
                    "mapbox": {
                      "style": "light"
                    },
                    "paper_bgcolor": "white",
                    "plot_bgcolor": "#E5ECF6",
                    "polar": {
                      "angularaxis": {
                        "gridcolor": "white",
                        "linecolor": "white",
                        "ticks": ""
                      },
                      "bgcolor": "#E5ECF6",
                      "radialaxis": {
                        "gridcolor": "white",
                        "linecolor": "white",
                        "ticks": ""
                      }
                    },
                    "scene": {
                      "xaxis": {
                        "backgroundcolor": "#E5ECF6",
                        "gridcolor": "white",
                        "gridwidth": 2,
                        "linecolor": "white",
                        "showbackground": true,
                        "ticks": "",
                        "zerolinecolor": "white"
                      },
                      "yaxis": {
                        "backgroundcolor": "#E5ECF6",
                        "gridcolor": "white",
                        "gridwidth": 2,
                        "linecolor": "white",
                        "showbackground": true,
                        "ticks": "",
                        "zerolinecolor": "white"
                      },
                      "zaxis": {
                        "backgroundcolor": "#E5ECF6",
                        "gridcolor": "white",
                        "gridwidth": 2,
                        "linecolor": "white",
                        "showbackground": true,
                        "ticks": "",
                        "zerolinecolor": "white"
                      }
                    },
                    "shapedefaults": {
                      "line": {
                        "color": "#2a3f5f"
                      }
                    },
                    "ternary": {
                      "aaxis": {
                        "gridcolor": "white",
                        "linecolor": "white",
                        "ticks": ""
                      },
                      "baxis": {
                        "gridcolor": "white",
                        "linecolor": "white",
                        "ticks": ""
                      },
                      "bgcolor": "#E5ECF6",
                      "caxis": {
                        "gridcolor": "white",
                        "linecolor": "white",
                        "ticks": ""
                      }
                    },
                    "title": {
                      "x": 0.05
                    },
                    "xaxis": {
                      "automargin": true,
                      "gridcolor": "white",
                      "linecolor": "white",
                      "ticks": "",
                      "title": {
                        "standoff": 15
                      },
                      "zerolinecolor": "white",
                      "zerolinewidth": 2
                    },
                    "yaxis": {
                      "automargin": true,
                      "gridcolor": "white",
                      "linecolor": "white",
                      "ticks": "",
                      "title": {
                        "standoff": 15
                      },
                      "zerolinecolor": "white",
                      "zerolinewidth": 2
                    }
                  }
                },
                "xaxis": {
                  "anchor": "y",
                  "domain": [
                    0,
                    1
                  ],
                  "title": {
                    "text": "x"
                  }
                },
                "yaxis": {
                  "anchor": "x",
                  "domain": [
                    0,
                    1
                  ],
                  "title": {
                    "text": "y"
                  }
                }
              }
            }
          },
          "metadata": {},
          "output_type": "display_data"
        }
      ],
      "source": [
        "MAX_WORDS=200\n",
        "fig = px.scatter(x=x_vals[:MAX_WORDS], y=y_vals[:MAX_WORDS], text=labels[:MAX_WORDS])\n",
        "fig.show() # esto para plotly en colab"
      ]
    }
  ],
  "metadata": {
    "colab": {
      "collapsed_sections": [],
      "name": "3b - Custom embedding con Gensim",
      "provenance": []
    },
    "interpreter": {
      "hash": "eda8329ce5439e37ea24af16a4ff5a945220a519191618dcf6a534d3fc61cae6"
    },
    "kernelspec": {
      "display_name": "Python 3.7.11 64-bit ('3.7.11': pyenv)",
      "name": "python3"
    },
    "language_info": {
      "codemirror_mode": {
        "name": "ipython",
        "version": 3
      },
      "file_extension": ".py",
      "mimetype": "text/x-python",
      "name": "python",
      "nbconvert_exporter": "python",
      "pygments_lexer": "ipython3",
      "version": "3.7.11"
    }
  },
  "nbformat": 4,
  "nbformat_minor": 0
}
